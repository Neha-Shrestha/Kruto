{
  "cells": [
    {
      "cell_type": "code",
      "execution_count": 1,
      "metadata": {
        "id": "dKvwhdmq2RMa"
      },
      "outputs": [],
      "source": [
        "import torch\n",
        "from torch import nn\n",
        "import torchvision\n",
        "from torchvision import transforms\n",
        "from torch.utils.data import Dataset\n",
        "\n",
        "from utils import *\n",
        "from unet import *\n",
        "from attention import *\n",
        "from time_embedding import *\n",
        "from vae import *\n",
        "from ddpm import *\n"
      ]
    },
    {
      "cell_type": "code",
      "execution_count": 2,
      "metadata": {
        "id": "A1oBnHoX2RMf"
      },
      "outputs": [],
      "source": [
        "import matplotlib.pyplot as plt\n",
        "\n",
        "def show_image(image, idx, msg=None):\n",
        "    single_image = image[idx].detach().cpu().permute(1, 2, 0).numpy()\n",
        "    plt.imshow(single_image)\n",
        "    plt.title(f'{msg}Image')\n",
        "    plt.axis('off')\n",
        "    plt.show()\n"
      ]
    },
    {
      "cell_type": "code",
      "execution_count": 3,
      "metadata": {},
      "outputs": [],
      "source": [
        "import torch\n",
        "from torch.utils.data import Dataset\n",
        "from torchvision import transforms\n",
        "from PIL import Image\n",
        "import os\n",
        "\n",
        "class CatsDogsDataset(Dataset):\n",
        "    def __init__(self, root_dir, transform=None):\n",
        "        self.root_dir = root_dir\n",
        "        self.transform = transform\n",
        "        self.classes = os.listdir(root_dir)\n",
        "        self.class_to_idx = {cls: i for i, cls in enumerate(self.classes)}\n",
        "        self.file_list = []\n",
        "\n",
        "        for cls in self.classes:\n",
        "            class_path = os.path.join(self.root_dir, cls)\n",
        "            files = os.listdir(class_path)\n",
        "            self.file_list.extend([(cls, os.path.join(class_path, file)) for file in files])\n",
        "\n",
        "    def __len__(self):\n",
        "        return len(self.file_list)\n",
        "\n",
        "    def __getitem__(self, idx):\n",
        "        class_name, img_path = self.file_list[idx]\n",
        "        image = Image.open(img_path).convert(\"RGB\")\n",
        "\n",
        "        label = self.class_to_idx[class_name]\n",
        "\n",
        "        if self.transform:\n",
        "            image = self.transform(image)\n",
        "\n",
        "        return image, label\n",
        "\n"
      ]
    },
    {
      "cell_type": "code",
      "execution_count": 4,
      "metadata": {
        "colab": {
          "base_uri": "https://localhost:8080/"
        },
        "id": "VStciyOM2RMc",
        "outputId": "f4a7ad5b-5b6d-4c8e-aeb7-a732a86b75c5"
      },
      "outputs": [],
      "source": [
        "# transform = transforms.Compose([transforms.ToTensor()])\n",
        "transform = transforms.Compose([transforms.ToTensor(), transforms.Resize((32, 32), antialias=True)])\n",
        "train_dataset = CatsDogsDataset(root_dir=\"./data/catsdogs/\", transform=transform)"
      ]
    },
    {
      "cell_type": "code",
      "execution_count": 5,
      "metadata": {
        "id": "xIkXSzyr2RMd"
      },
      "outputs": [],
      "source": [
        "batch_size = 64\n",
        "device = \"cuda\" if torch.cuda.is_available() else \"cpu\""
      ]
    },
    {
      "cell_type": "code",
      "execution_count": 6,
      "metadata": {
        "id": "6mMELion2RMd"
      },
      "outputs": [],
      "source": [
        "train_dataloader = DataLoader(dataset=train_dataset, batch_size=batch_size, shuffle=True) "
      ]
    },
    {
      "cell_type": "code",
      "execution_count": 7,
      "metadata": {
        "id": "EjIGXM3c2RMg"
      },
      "outputs": [],
      "source": [
        "ddpm = DDPM(0.0001, 0.02, 1000, device)"
      ]
    },
    {
      "cell_type": "code",
      "execution_count": 8,
      "metadata": {
        "id": "BF-a9ySk2RMd"
      },
      "outputs": [],
      "source": [
        "unet = UNET(2, 3, 1, (32,64,128,256)).to(device)"
      ]
    },
    {
      "cell_type": "code",
      "execution_count": 9,
      "metadata": {},
      "outputs": [],
      "source": [
        "lr = 1e-3\n",
        "epochs = 500\n",
        "loss_fn = nn.MSELoss()\n",
        "optimizer = torch.optim.Adam(unet.parameters(), lr=lr)\n",
        "schedular = torch.optim.lr_scheduler.OneCycleLR(optimizer, max_lr=lr, total_steps=epochs*len(train_dataloader))"
      ]
    },
    {
      "cell_type": "code",
      "execution_count": 10,
      "metadata": {},
      "outputs": [],
      "source": [
        "from IPython.display import display\n",
        "from tqdm.notebook import trange\n",
        "import warnings\n",
        "warnings.filterwarnings(\"ignore\", category=UserWarning)\n",
        "\n",
        "def train(model, epochs=None):\n",
        "    model.to(device)\n",
        "    progress_bar = trange(epochs, desc=\"Progress\")\n",
        "    display(progress_bar)\n",
        "    for epoch in progress_bar:\n",
        "        model.train()\n",
        "        total_loss = 0\n",
        "        for X, y in train_dataloader:\n",
        "            X, y = X.to(device), y.to(device)\n",
        "            xt, t, noise = ddpm.schedule(X)\n",
        "            pred = model(xt, t, y)\n",
        "            loss = loss_fn(pred, noise)\n",
        "            total_loss += loss.item()\n",
        "            optimizer.zero_grad()\n",
        "            loss.backward()\n",
        "            optimizer.step()\n",
        "        schedular.step()\n",
        "        current_epoch = epoch+1\n",
        "        if current_epoch % 50 == 0:\n",
        "            torch.save(model.state_dict(), f\"./Saved Models/unet_schedular_cd_{current_epoch}\")\n",
        "            print(f\"Epoch: {current_epoch} - Loss: {total_loss/len(train_dataloader)}\")"
      ]
    },
    {
      "cell_type": "code",
      "execution_count": 11,
      "metadata": {},
      "outputs": [
        {
          "data": {
            "application/vnd.jupyter.widget-view+json": {
              "model_id": "df63a380d54949a48c5a454c386915ca",
              "version_major": 2,
              "version_minor": 0
            },
            "text/plain": [
              "Progress:   0%|          | 0/500 [00:00<?, ?it/s]"
            ]
          },
          "metadata": {},
          "output_type": "display_data"
        },
        {
          "data": {
            "text/plain": [
              "<tqdm.notebook.tqdm_notebook at 0x17cc7d23100>"
            ]
          },
          "metadata": {},
          "output_type": "display_data"
        },
        {
          "name": "stdout",
          "output_type": "stream",
          "text": [
            "Epoch: 50 - Loss: 0.71941177546978\n",
            "Epoch: 100 - Loss: 0.7125096172094345\n",
            "Epoch: 150 - Loss: 0.6963977962732315\n",
            "Epoch: 200 - Loss: 0.6876568496227264\n",
            "Epoch: 250 - Loss: 0.6977975219488144\n",
            "Epoch: 300 - Loss: 0.6856003552675247\n",
            "Epoch: 350 - Loss: 0.6838956922292709\n",
            "Epoch: 400 - Loss: 0.6924537718296051\n",
            "Epoch: 450 - Loss: 0.6834679692983627\n",
            "Epoch: 500 - Loss: 0.6782654225826263\n"
          ]
        }
      ],
      "source": [
        "train(unet, epochs=epochs)"
      ]
    },
    {
      "cell_type": "code",
      "execution_count": 12,
      "metadata": {
        "colab": {
          "base_uri": "https://localhost:8080/",
          "height": 428
        },
        "id": "SPI3qVBu2RMg",
        "outputId": "d351be26-8cd3-4b5b-855d-5caf782b1133"
      },
      "outputs": [],
      "source": [
        "sample = ddpm.sample(unet, (2, 3, 32, 32), torch.tensor(0))"
      ]
    },
    {
      "cell_type": "code",
      "execution_count": 13,
      "metadata": {
        "colab": {
          "base_uri": "https://localhost:8080/",
          "height": 428
        },
        "id": "-MAUg-vwItcU",
        "outputId": "306119bf-25c5-4c3d-bbd0-aa9ae99658be"
      },
      "outputs": [
        {
          "name": "stderr",
          "output_type": "stream",
          "text": [
            "Clipping input data to the valid range for imshow with RGB data ([0..1] for floats or [0..255] for integers).\n"
          ]
        },
        {
          "data": {
            "image/png": "[encoded data removed]",
            "text/plain": [
              "<Figure size 640x480 with 1 Axes>"
            ]
          },
          "metadata": {},
          "output_type": "display_data"
        }
      ],
      "source": [
        "show_image(sample[-1], 0)"
      ]
    },
    {
      "cell_type": "code",
      "execution_count": 14,
      "metadata": {},
      "outputs": [
        {
          "name": "stderr",
          "output_type": "stream",
          "text": [
            "Clipping input data to the valid range for imshow with RGB data ([0..1] for floats or [0..255] for integers).\n"
          ]
        },
        {
          "data": {
            "image/png": "[encoded data removed]",
            "text/plain": [
              "<Figure size 640x480 with 1 Axes>"
            ]
          },
          "metadata": {},
          "output_type": "display_data"
        }
      ],
      "source": [
        "show_image(sample[-1], 1)"
      ]
    }
  ],
  "metadata": {
    "accelerator": "GPU",
    "colab": {
      "gpuType": "T4",
      "provenance": []
    },
    "kernelspec": {
      "display_name": "Python 3",
      "name": "python3"
    },
    "language_info": {
      "codemirror_mode": {
        "name": "ipython",
        "version": 3
      },
      "file_extension": ".py",
      "mimetype": "text/x-python",
      "name": "python",
      "nbconvert_exporter": "python",
      "pygments_lexer": "ipython3",
      "version": "3.9.12"
    }
  },
  "nbformat": 4,
  "nbformat_minor": 0
}
