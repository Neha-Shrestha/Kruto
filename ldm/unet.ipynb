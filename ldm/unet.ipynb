{
 "cells": [
  {
   "cell_type": "code",
   "execution_count": 1,
   "metadata": {},
   "outputs": [],
   "source": [
    "import torch\n",
    "from torch import nn"
   ]
  },
  {
   "cell_type": "code",
   "execution_count": 2,
   "metadata": {},
   "outputs": [],
   "source": [
    "class DoubleConv(nn.Module):\n",
    "    def __init__(self, in_channels, out_channels):\n",
    "        super().__init__()\n",
    "        self.conv = nn.Sequential(\n",
    "            nn.Conv2d(in_channels, out_channels, kernel_size=3, padding=1),\n",
    "            nn.ReLU(inplace=True),\n",
    "            nn.Conv2d(out_channels, out_channels, kernel_size=3, padding=1),\n",
    "            nn.ReLU(inplace=True)\n",
    "        )\n",
    "    \n",
    "    def forward(self, x):\n",
    "        return self.conv(x)"
   ]
  },
  {
   "cell_type": "code",
   "execution_count": 3,
   "metadata": {},
   "outputs": [],
   "source": [
    "class UNET(nn.Module):\n",
    "    def __init__(self, in_channels, out_channels, nf=[64, 128, 256, 512]):\n",
    "        super().__init__()\n",
    "        self.encoder = nn.ModuleList()\n",
    "        for f in nf:\n",
    "            self.encoder.append(DoubleConv(in_channels, f))\n",
    "            in_channels = f\n",
    "        \n",
    "        self.pool = nn.MaxPool2d(kernel_size=2, stride=2)\n",
    "\n",
    "        self.bottle_neck = DoubleConv(nf[-1], nf[-1]*2)\n",
    "\n",
    "        self.decoder = nn.ModuleList()\n",
    "        rnf = nf[::-1]\n",
    "        for f in rnf:\n",
    "            self.decoder.append(nn.ConvTranspose2d(f*2, f, kernel_size=2, stride=2))\n",
    "            self.decoder.append(DoubleConv(f*2, f))\n",
    "        \n",
    "        self.final_conv = nn.Conv2d(nf[0], out_channels, kernel_size=1)\n",
    "\n",
    "    def forward(self, x):\n",
    "        skips = []\n",
    "        for enc in self.encoder:\n",
    "            x = enc(x)\n",
    "            skips.append(x)\n",
    "            x = self.pool(x)\n",
    "              \n",
    "        x = self.bottle_neck(x)\n",
    "        skips = skips[::-1]\n",
    "        \n",
    "        for i in range(0, len(self.decoder), 2):\n",
    "            x = self.decoder[i](x)\n",
    "            x = torch.cat((skips[i//2], x), dim=1)\n",
    "            x = self.decoder[i+1](x)\n",
    "\n",
    "        return self.final_conv(x)"
   ]
  },
  {
   "cell_type": "code",
   "execution_count": 4,
   "metadata": {},
   "outputs": [
    {
     "name": "stdout",
     "output_type": "stream",
     "text": [
      "torch.Size([3, 1, 160, 160])\n",
      "torch.Size([3, 1, 160, 160])\n"
     ]
    }
   ],
   "source": [
    "model = UNET(1, 1)\n",
    "x = torch.randn((3, 1, 160, 160))\n",
    "pred = model(x)\n",
    "print(x.shape)\n",
    "print(pred.shape)"
   ]
  },
  {
   "cell_type": "code",
   "execution_count": null,
   "metadata": {},
   "outputs": [],
   "source": []
  }
 ],
 "metadata": {
  "kernelspec": {
   "display_name": "pytorch",
   "language": "python",
   "name": "python3"
  },
  "language_info": {
   "codemirror_mode": {
    "name": "ipython",
    "version": 3
   },
   "file_extension": ".py",
   "mimetype": "text/x-python",
   "name": "python",
   "nbconvert_exporter": "python",
   "pygments_lexer": "ipython3",
   "version": "3.9.12"
  }
 },
 "nbformat": 4,
 "nbformat_minor": 2
}
