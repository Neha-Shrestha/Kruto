{
 "cells": [
  {
   "cell_type": "code",
   "execution_count": 1,
   "metadata": {},
   "outputs": [],
   "source": [
    "import torch\n",
    "from torch import nn\n",
    "import torchvision\n",
    "from torchvision import transforms"
   ]
  },
  {
   "cell_type": "code",
   "execution_count": 2,
   "metadata": {},
   "outputs": [],
   "source": [
    "transform = transforms.Compose([transforms.ToTensor()])\n",
    "train_dataset = torchvision.datasets.FashionMNIST(root='./data', train=True, download=True, transform=transform)\n",
    "test_dataset = torchvision.datasets.FashionMNIST(root='./data', train=False, download=True, transform=transform)"
   ]
  },
  {
   "cell_type": "code",
   "execution_count": 3,
   "metadata": {},
   "outputs": [],
   "source": [
    "from torch.utils.data import DataLoader"
   ]
  },
  {
   "cell_type": "code",
   "execution_count": 4,
   "metadata": {},
   "outputs": [],
   "source": [
    "def dataloader(train_dataset, test_dataset, batch_size):\n",
    "    return (\n",
    "        DataLoader(dataset=train_dataset, batch_size=batch_size, shuffle=True), \n",
    "        DataLoader(dataset=test_dataset, batch_size=batch_size, shuffle=False),\n",
    "        train_dataset.classes\n",
    "    )"
   ]
  },
  {
   "cell_type": "code",
   "execution_count": 5,
   "metadata": {},
   "outputs": [],
   "source": [
    "BATCH_SIZE = 64\n",
    "train_dataloader, test_dataloader, class_names = dataloader(train_dataset, test_dataset, BATCH_SIZE)"
   ]
  },
  {
   "cell_type": "code",
   "execution_count": 6,
   "metadata": {},
   "outputs": [
    {
     "data": {
      "text/plain": [
       "'cuda'"
      ]
     },
     "execution_count": 6,
     "metadata": {},
     "output_type": "execute_result"
    }
   ],
   "source": [
    "device = \"cuda\" if torch.cuda.is_available() else \"cpu\"\n",
    "device"
   ]
  },
  {
   "cell_type": "code",
   "execution_count": 7,
   "metadata": {},
   "outputs": [],
   "source": [
    "# new conv\n",
    "def conv(ni, nf, ks=3, stride=2, act=nn.ReLU, norm=None, bias=None):\n",
    "    if bias is None: bias = not isinstance(norm, (nn.BatchNorm1d,nn.BatchNorm2d,nn.BatchNorm3d))\n",
    "    layers = [nn.Conv2d(ni, nf, stride=stride, kernel_size=ks, padding=ks//2, bias=bias)]\n",
    "    if norm: layers.append(norm(nf))\n",
    "    if act: layers.append(act())\n",
    "    return nn.Sequential(*layers)"
   ]
  },
  {
   "cell_type": "code",
   "execution_count": 8,
   "metadata": {},
   "outputs": [],
   "source": [
    "def get_model(act=nn.ReLU, nfs=(8,16,32,64,128), norm=nn.BatchNorm2d):\n",
    "    layers = [conv(1, 8, stride=1, act=act, norm=norm)]\n",
    "    layers += [conv(nfs[i], nfs[i+1], act=act, norm=norm) for i in range(len(nfs)-1)]\n",
    "    return nn.Sequential(\n",
    "        *layers, \n",
    "        conv(nfs[-1], 10, act=None, norm=norm, bias=True), \n",
    "        nn.Flatten()\n",
    "    ).to(device)"
   ]
  },
  {
   "cell_type": "code",
   "execution_count": 9,
   "metadata": {},
   "outputs": [],
   "source": [
    "model = get_model(norm=nn.BatchNorm2d)"
   ]
  },
  {
   "cell_type": "code",
   "execution_count": 10,
   "metadata": {},
   "outputs": [],
   "source": [
    "lr = 6e-2\n",
    "epochs = 5\n",
    "loss_fn = nn.CrossEntropyLoss()\n",
    "optimizer = torch.optim.AdamW(params=model.parameters(), lr=lr)\n",
    "scheduler = torch.optim.lr_scheduler.OneCycleLR(optimizer, max_lr=lr, total_steps=epochs*len(train_dataloader))"
   ]
  },
  {
   "cell_type": "code",
   "execution_count": 11,
   "metadata": {},
   "outputs": [
    {
     "name": "stderr",
     "output_type": "stream",
     "text": [
      "d:\\Machine Learning\\pytorch\\lib\\site-packages\\torchaudio\\backend\\utils.py:74: UserWarning: No audio backend is available.\n",
      "  warnings.warn(\"No audio backend is available.\")\n"
     ]
    }
   ],
   "source": [
    "from tqdm.notebook import trange\n",
    "from IPython.display import display\n",
    "from torcheval.metrics import MulticlassAccuracy, Mean\n",
    "\n",
    "class Learner:\n",
    "    def __init__(self, model, train_dataloader, test_dataloader, loss_fn, optimizer, scheduler, device):\n",
    "        self.model = model\n",
    "        self.train_dataloader = train_dataloader\n",
    "        self.test_dataloader = test_dataloader\n",
    "        self.loss_fn = loss_fn\n",
    "        self.optimizer = optimizer\n",
    "        self.scheduler = scheduler\n",
    "        self.device = device\n",
    "        self.accuracy_metric = MulticlassAccuracy(device=device)\n",
    "        self.loss_metric = Mean(device=device)\n",
    "        self.results = {\n",
    "            \"train_loss\": [],\n",
    "            \"train_acc\": [],\n",
    "            \"test_loss\": [],\n",
    "            \"test_acc\": []\n",
    "        }\n",
    "    \n",
    "    def _update_results(self):\n",
    "        self.loss_metric.update(self.loss)\n",
    "        self.accuracy_metric.update(self.pred, self.y)\n",
    "        \n",
    "    def _compute_results(self):\n",
    "        am = self.accuracy_metric.compute().item()\n",
    "        lm = self.loss_metric.compute().item()\n",
    "        if self.training:\n",
    "            mode = \"train\"\n",
    "            self.results[\"train_loss\"].append(lm)\n",
    "            self.results[\"train_acc\"].append(am)\n",
    "        else:\n",
    "            mode = \"test\"\n",
    "            self.results[\"test_loss\"].append(lm)\n",
    "            self.results[\"test_acc\"].append(am)\n",
    "        print(f\"{self.epoch}\\t{mode}\\t{lm:.4f}\\t{am:.4f}\")\n",
    "\n",
    "    def _plot_curves(self):\n",
    "        pass\n",
    "\n",
    "    def _run_batch(self):\n",
    "        self.pred = self.model(self.X)\n",
    "        self.loss = self.loss_fn(self.pred, self.y)\n",
    "        self._update_results()\n",
    "        if self.training:\n",
    "            self.optimizer.zero_grad()\n",
    "            self.loss.backward()\n",
    "            self.optimizer.step()\n",
    "\n",
    "    def _run_epoch(self, train=True):\n",
    "        self.training = train\n",
    "        self.dl = self.train_dataloader if self.training else self.test_dataloader\n",
    "        for self.X, self.y in self.dl:\n",
    "            self.X, self.y = self.X.to(device), self.y.to(device)\n",
    "            self._run_batch()\n",
    "        self._compute_results()\n",
    "            \n",
    "    def fit(self, epochs, train=True, test=True):\n",
    "        self.epochs = epochs\n",
    "        self.model.to(self.device)\n",
    "        \n",
    "        progress_bar = trange(self.epochs, desc=\"Progress\")\n",
    "        display(progress_bar)\n",
    "        print(\"Epoch\\tMode\\tLoss\\tAccuracy\")\n",
    "        \n",
    "        for self.epoch in progress_bar:\n",
    "            if train: \n",
    "                self._run_epoch(True)\n",
    "            if test: \n",
    "                with torch.inference_mode(): \n",
    "                    self._run_epoch(False)\n",
    "            self.scheduler.step()\n",
    "        \n",
    "        self._plot_curves()\n"
   ]
  },
  {
   "cell_type": "code",
   "execution_count": 12,
   "metadata": {},
   "outputs": [
    {
     "data": {
      "application/vnd.jupyter.widget-view+json": {
       "model_id": "5a37be91e3b94e3aa389c51ca72936b6",
       "version_major": 2,
       "version_minor": 0
      },
      "text/plain": [
       "Progress:   0%|          | 0/5 [00:00<?, ?it/s]"
      ]
     },
     "metadata": {},
     "output_type": "display_data"
    },
    {
     "data": {
      "text/plain": [
       "<tqdm.notebook.tqdm_notebook at 0x28778527910>"
      ]
     },
     "metadata": {},
     "output_type": "display_data"
    },
    {
     "name": "stdout",
     "output_type": "stream",
     "text": [
      "Epoch\tMode\tLoss\tAccuracy\n",
      "0\ttrain\t0.4813\t0.8605\n",
      "0\ttest\t0.4652\t0.8631\n",
      "1\ttrain\t0.3956\t0.8780\n",
      "1\ttest\t0.3900\t0.8790\n",
      "2\ttrain\t0.3540\t0.8875\n",
      "2\ttest\t0.3511\t0.8880\n",
      "3\ttrain\t0.3263\t0.8943\n",
      "3\ttest\t0.3247\t0.8946\n",
      "4\ttrain\t0.3058\t0.8997\n",
      "4\ttest\t0.3047\t0.8999\n"
     ]
    }
   ],
   "source": [
    "learn = Learner(model=model, train_dataloader=train_dataloader, test_dataloader=test_dataloader, loss_fn=loss_fn, optimizer=optimizer, scheduler=scheduler, device=device)\n",
    "learn.fit(5)"
   ]
  }
 ],
 "metadata": {
  "kernelspec": {
   "display_name": "Python 3 (ipykernel)",
   "language": "python",
   "name": "python3"
  },
  "language_info": {
   "codemirror_mode": {
    "name": "ipython",
    "version": 3
   },
   "file_extension": ".py",
   "mimetype": "text/x-python",
   "name": "python",
   "nbconvert_exporter": "python",
   "pygments_lexer": "ipython3",
   "version": "3.9.12"
  }
 },
 "nbformat": 4,
 "nbformat_minor": 4
}
