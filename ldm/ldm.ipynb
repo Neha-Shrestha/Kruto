{
 "cells": [
  {
   "cell_type": "code",
   "execution_count": 2,
   "metadata": {},
   "outputs": [],
   "source": [
    "import torch\n",
    "from torch import nn\n",
    "from torch.nn import functional as F"
   ]
  },
  {
   "cell_type": "markdown",
   "metadata": {},
   "source": [
    "### Encoder"
   ]
  },
  {
   "cell_type": "code",
   "execution_count": 3,
   "metadata": {},
   "outputs": [],
   "source": [
    "%%writefile ./encoder.py\n",
    "class VAE_Encoder(nn.Sequential):\n",
    "    def __init__(self):\n",
    "        super().__init__(\n",
    "            # (B, C, H, W) -> (B, 128, H, W)\n",
    "            nn.Conv2d(in_channels=3, out_channels=128, kernel_size=3, padding=1),\n",
    "            # (B, 128, H, W) -> (B, 128, H, W)\n",
    "            VAE_ResidualBlock(in_c=128, out_c=128),\n",
    "            # (B, 128, H, W) -> (B, 128, H, W)\n",
    "            VAE_ResidualBlock(in_c=128, out_c=128),\n",
    "            # (B, 128, H, W) -> (B, 128, H // 2, W // 2)\n",
    "            nn.Conv2d(in_channels=128, out_channels=128, kernel_size=3, stride=2, padding=0),\n",
    "            # (B, 128, H // 2, W // 2) -> (B, 256, H // 2, W // 2)\n",
    "            VAE_ResidualBlock(in_c=128, out_c=256),\n",
    "            # (B, 256, H // 2, W // 2) -> (B, 256, H // 2, W // 2)\n",
    "            VAE_ResidualBlock(in_c=256, out_c=256),\n",
    "            # (B, 256, H // 2, W // 2) -> (B, 256, H // 4, W // 4)\n",
    "            nn.Conv2d(in_channels=256, out_channels=256, kernel_size=3, stride=2, padding=0),\n",
    "            # (B, 256, H // 4, W // 4) -> (B, 512, H // 4, W // 4)\n",
    "            VAE_ResidualBlock(in_c=256, out_c=512),\n",
    "            # (B, 512, H // 4, W // 4) -> (B, 512, H // 4, W // 4)\n",
    "            VAE_ResidualBlock(in_c=512, out_c=512),\n",
    "            # (B, 512, H // 4, W // 4) -> (B, 512, H // 8, W // 8)\n",
    "            nn.Conv2d(in_channels=512, out_channels=512, kernel_size=3, stride=2, padding=0),\n",
    "            # (B, 512, H // 8, W // 8) -> (B, 512, H // 8, W // 8)\n",
    "            VAE_ResidualBlock(in_c=512, out_c=512),\n",
    "            VAE_ResidualBlock(in_c=512, out_c=512),\n",
    "            VAE_ResidualBlock(in_c=512, out_c=512),\n",
    "            # (B, 512, H // 8, W // 8) -> (B, 512, H // 8, W // 8)\n",
    "            VAE_AttentionBlock(512),\n",
    "            # (B, 512, H // 8, W // 8) -> (B, 512, H // 8, W // 8)\n",
    "            VAE_ResidualBlock(in_c=512, out_c=512),\n",
    "            # (B, 512, H // 8, W // 8) -> (B, 512, H // 8, W // 8)\n",
    "            nn.GroupNorm(num_groups=32, num_channels=512),\n",
    "            # (B, 512, H // 8, W // 8) -> (B, 512, H // 8, W // 8)\n",
    "            nn.SiLU(),\n",
    "            # (B, 512, H // 4, W // 4) -> (B, 8, H // 8, W // 8)\n",
    "            nn.Conv2d(in_channels=512, out_channels=8, kernel_size=3, padding=1),\n",
    "            # (B, 8, H // 4, W // 4) -> (B, 8, H // 8, W // 8)\n",
    "            nn.Conv2d(in_channels=8, out_channels=8, kernel_size=1, padding=0)\n",
    "        )\n",
    "    \n",
    "    def forward(self, x: torch.Tensor, noise: torch.Tensor) -> torch.Tensor:\n",
    "        # x: (B, C, H, W) | (Image)\n",
    "        # noise: (B, out_channels, H // 8, W // 8)\n",
    "        for module in self:\n",
    "            if getattr(module, \"stride\", None) == (2, 2):\n",
    "                # Padding: L, R, T, B\n",
    "                x = F.pad(x, (0, 1, 0, 1))\n",
    "            x = module(x)\n",
    "        \n",
    "        # (B, 8, H // 4, W // 4) -> 2 * (B, 4, H // 8, W // 8) | Breaking the batch\n",
    "        mean, log_variance = torch.chunk(x, 2, dim=1)\n",
    "\n",
    "        # (B, 4, H // 8, W // 8) -> (B, 4, H // 8, W // 8)\n",
    "        variance = torch.exp(torch.clamp(log_variance, -30, 20))\n",
    "        stdev = torch.sqrt(variance)\n",
    "\n",
    "        # Z = N(0, 1) -> N(mean, variance) = X?\n",
    "        # X = mean + stdev * Z\n",
    "        # Scale the output by a constant\n",
    "        x = (mean + (stdev * noise)) * 0.18215\n",
    "\n",
    "        return x"
   ]
  },
  {
   "cell_type": "markdown",
   "metadata": {},
   "source": [
    "### Decoder"
   ]
  },
  {
   "cell_type": "code",
   "execution_count": null,
   "metadata": {},
   "outputs": [],
   "source": [
    "class VAE_AttentionBlock(nn.Module):\n",
    "    def __init__(self, channels: int):\n",
    "        super().__init__()\n",
    "        self.g_norm = nn.GroupNorm(num_groups=32, num_channels=channels)\n",
    "        self.attention = SelfAttention(1, channels)\n",
    "    \n",
    "    def forward(self, x: torch.Tensor) -> torch.Tensor:\n",
    "        # x: (B, Features or channels, H, W)\n",
    "        residue = x\n",
    "        n, c, h, w = x.shape\n",
    "        # (B, Features, H, W) -> (B, Features, H * W)\n",
    "        x = x.view(n, c, h*w)\n",
    "        # (B, Features, H * W) -> (B, H * W, Features)\n",
    "        x = x.transpose(-1, -2)\n",
    "        # (B, Features, H * W) -> (B, H * W, Features)\n",
    "        x = self.attention(x)\n",
    "        # (B, H * W, Features) -> (B, Features, H * W)\n",
    "        x = x.transpose(-1, -2)\n",
    "        # (B, Features, H * W) -> (B, Features, H, W)\n",
    "        x = x.view(n, c, h, w)\n",
    "        \n",
    "        x += residue\n",
    "        return x\n"
   ]
  },
  {
   "cell_type": "code",
   "execution_count": null,
   "metadata": {},
   "outputs": [],
   "source": [
    "class VAE_ResidualBlock(nn.Module):\n",
    "    def __init__(self, in_c, out_c):\n",
    "        super().__init__()\n",
    "        self.g_norm_1 = nn.GroupNorm(num_groups=32, num_channels=in_c)\n",
    "        self.conv_1 = nn.Conv2d(in_channels=in_c, out_channels=out_c, kernel_size=3, padding=1)\n",
    "        \n",
    "        self.g_norm_2 = nn.GroupNorm(num_groups=in_c, num_channels=out_c)\n",
    "        self.conv_2 = nn.Conv2d(in_channels=out_c, out_channels=out_c, kernel_size=3, padding=1)\n",
    "\n",
    "        if in_c == out_c:\n",
    "            self.residual_layer = nn.Identity()\n",
    "        else:\n",
    "            self.residual_layer = nn.Conv2d(in_channels=out_c, out_channels=out_c, kernel_size=1, padding=0)\n",
    "\n",
    "    def forward(self, x: torch.Tensor) -> torch.Tensor:\n",
    "        # x: (B, in_channels, H, W)\n",
    "        residue = x\n",
    "        x = self.g_norm_1(x)\n",
    "        x = F.silu(x)\n",
    "        x = self.conv_1(x)\n",
    "        x = self.g_norm_2(x)\n",
    "        x = F.silu(x)\n",
    "        x = self.conv_2(x)\n",
    "        return x + self.residual_layer(residue)"
   ]
  },
  {
   "cell_type": "code",
   "execution_count": null,
   "metadata": {},
   "outputs": [],
   "source": []
  }
 ],
 "metadata": {
  "kernelspec": {
   "display_name": "pytorch",
   "language": "python",
   "name": "python3"
  },
  "language_info": {
   "codemirror_mode": {
    "name": "ipython",
    "version": 3
   },
   "file_extension": ".py",
   "mimetype": "text/x-python",
   "name": "python",
   "nbconvert_exporter": "python",
   "pygments_lexer": "ipython3",
   "version": "3.9.12"
  }
 },
 "nbformat": 4,
 "nbformat_minor": 2
}
