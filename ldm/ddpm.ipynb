{
 "cells": [
  {
   "cell_type": "code",
   "execution_count": 2,
   "metadata": {},
   "outputs": [],
   "source": [
    "import torch\n",
    "from torch import nn\n",
    "import torchvision\n",
    "from torchvision import transforms"
   ]
  },
  {
   "cell_type": "code",
   "execution_count": 4,
   "metadata": {},
   "outputs": [],
   "source": [
    "class DDPM:\n",
    "    def __init__(self, beta_min, beta_max, n_steps):\n",
    "        init_attr(self, locals=locals())\n",
    "        self.beta = torch.linspace(self.beta_min, self.beta_max, self.n_steps)\n",
    "        self.alpha = 1 - self.beta\n",
    "        self.alpha_bar = self.alpha.cumprod(dim=0)\n",
    "        self.sigma = self.beta.sqrt()\n",
    "    \n",
    "    def forward(self, x0):\n",
    "        device = x0.device\n",
    "        n = len(x0)\n",
    "        t = torch.randint(0, self.n_steps, (n,), device=device, dtype=torch.long)\n",
    "        noise = torch.randn(x0.shape, device=device)\n",
    "        alpha_bar_t = self.alpha_bar[t].reshape(-1, 1, 1, 1).to(device)\n",
    "        mean = alpha_bar_t.sqrt().to(device) * x0.to(device) \n",
    "        variance = (1-alpha_bar_t).sqrt().to(device) * noise.to(device) \n",
    "        xt = mean + variance\n",
    "        return (xt, t.to(device)), noise"
   ]
  }
 ],
 "metadata": {
  "kernelspec": {
   "display_name": "pytorch",
   "language": "python",
   "name": "python3"
  },
  "language_info": {
   "codemirror_mode": {
    "name": "ipython",
    "version": 3
   },
   "file_extension": ".py",
   "mimetype": "text/x-python",
   "name": "python",
   "nbconvert_exporter": "python",
   "pygments_lexer": "ipython3",
   "version": "3.9.12"
  }
 },
 "nbformat": 4,
 "nbformat_minor": 2
}
