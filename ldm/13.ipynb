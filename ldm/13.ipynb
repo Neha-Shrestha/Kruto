{
  "cells": [
    {
      "cell_type": "code",
      "execution_count": null,
      "metadata": {
        "id": "dKvwhdmq2RMa"
      },
      "outputs": [],
      "source": [
        "import torch\n",
        "from torch import nn\n",
        "import torchvision\n",
        "from torchvision import transforms\n",
        "\n",
        "from tqdm import trange\n",
        "from utils import *\n",
        "from unet import *\n",
        "from attention import *\n",
        "from time_embedding import *\n",
        "from vae import *\n",
        "from ddpm import *\n"
      ]
    },
    {
      "cell_type": "code",
      "execution_count": null,
      "metadata": {
        "colab": {
          "base_uri": "https://localhost:8080/"
        },
        "id": "VStciyOM2RMc",
        "outputId": "f4a7ad5b-5b6d-4c8e-aeb7-a732a86b75c5"
      },
      "outputs": [
        {
          "name": "stdout",
          "output_type": "stream",
          "text": [
            "Downloading http://fashion-mnist.s3-website.eu-central-1.amazonaws.com/train-images-idx3-ubyte.gz\n",
            "Downloading http://fashion-mnist.s3-website.eu-central-1.amazonaws.com/train-images-idx3-ubyte.gz to ./data/FashionMNIST/raw/train-images-idx3-ubyte.gz\n"
          ]
        },
        {
          "name": "stderr",
          "output_type": "stream",
          "text": [
            "100%|██████████| 26421880/26421880 [00:02<00:00, 11623384.94it/s]\n"
          ]
        },
        {
          "name": "stdout",
          "output_type": "stream",
          "text": [
            "Extracting ./data/FashionMNIST/raw/train-images-idx3-ubyte.gz to ./data/FashionMNIST/raw\n",
            "\n",
            "Downloading http://fashion-mnist.s3-website.eu-central-1.amazonaws.com/train-labels-idx1-ubyte.gz\n",
            "Downloading http://fashion-mnist.s3-website.eu-central-1.amazonaws.com/train-labels-idx1-ubyte.gz to ./data/FashionMNIST/raw/train-labels-idx1-ubyte.gz\n"
          ]
        },
        {
          "name": "stderr",
          "output_type": "stream",
          "text": [
            "100%|██████████| 29515/29515 [00:00<00:00, 215407.46it/s]\n"
          ]
        },
        {
          "name": "stdout",
          "output_type": "stream",
          "text": [
            "Extracting ./data/FashionMNIST/raw/train-labels-idx1-ubyte.gz to ./data/FashionMNIST/raw\n",
            "\n",
            "Downloading http://fashion-mnist.s3-website.eu-central-1.amazonaws.com/t10k-images-idx3-ubyte.gz\n",
            "Downloading http://fashion-mnist.s3-website.eu-central-1.amazonaws.com/t10k-images-idx3-ubyte.gz to ./data/FashionMNIST/raw/t10k-images-idx3-ubyte.gz\n"
          ]
        },
        {
          "name": "stderr",
          "output_type": "stream",
          "text": [
            "100%|██████████| 4422102/4422102 [00:01<00:00, 3860437.14it/s]\n"
          ]
        },
        {
          "name": "stdout",
          "output_type": "stream",
          "text": [
            "Extracting ./data/FashionMNIST/raw/t10k-images-idx3-ubyte.gz to ./data/FashionMNIST/raw\n",
            "\n",
            "Downloading http://fashion-mnist.s3-website.eu-central-1.amazonaws.com/t10k-labels-idx1-ubyte.gz\n",
            "Downloading http://fashion-mnist.s3-website.eu-central-1.amazonaws.com/t10k-labels-idx1-ubyte.gz to ./data/FashionMNIST/raw/t10k-labels-idx1-ubyte.gz\n"
          ]
        },
        {
          "name": "stderr",
          "output_type": "stream",
          "text": [
            "100%|██████████| 5148/5148 [00:00<00:00, 20882279.49it/s]"
          ]
        },
        {
          "name": "stdout",
          "output_type": "stream",
          "text": [
            "Extracting ./data/FashionMNIST/raw/t10k-labels-idx1-ubyte.gz to ./data/FashionMNIST/raw\n",
            "\n"
          ]
        },
        {
          "name": "stderr",
          "output_type": "stream",
          "text": [
            "\n"
          ]
        }
      ],
      "source": [
        "# transform = transforms.Compose([transforms.ToTensor()])\n",
        "transform = transforms.Compose([transforms.ToTensor(), transforms.Resize((32, 32))])\n",
        "train_dataset = torchvision.datasets.FashionMNIST(root='./data', train=True, download=True, transform=transform)\n",
        "test_dataset = torchvision.datasets.FashionMNIST(root='./data', train=False, download=True, transform=transform)\n"
      ]
    },
    {
      "cell_type": "code",
      "execution_count": null,
      "metadata": {
        "id": "xIkXSzyr2RMd"
      },
      "outputs": [],
      "source": [
        "BATCH_SIZE = 64\n",
        "device = \"cuda\" if torch.cuda.is_available() else \"cpu\""
      ]
    },
    {
      "cell_type": "code",
      "execution_count": null,
      "metadata": {
        "id": "rty6DtqA2RMd"
      },
      "outputs": [],
      "source": [
        "# def data_collate(batch):\n",
        "#     X, y = zip(*batch)\n",
        "#     ddpm = DDPM(0, 1, 5)\n",
        "#     X = torch.stack(X, dim=0)\n",
        "#     y = torch.tensor(y)\n",
        "#     (X, t), noise = ddpm.schedule(X)\n",
        "#     return (X, t, y), noise\n"
      ]
    },
    {
      "cell_type": "code",
      "execution_count": null,
      "metadata": {
        "id": "6mMELion2RMd"
      },
      "outputs": [],
      "source": [
        "train_dataloader, test_dataloader, classes = dataloader(train_dataset, test_dataset, BATCH_SIZE)"
      ]
    },
    {
      "cell_type": "code",
      "execution_count": null,
      "metadata": {
        "id": "BF-a9ySk2RMd"
      },
      "outputs": [],
      "source": [
        "unet = UNET(10, 1, 1, (32,64,128,256)).to(device)"
      ]
    },
    {
      "cell_type": "code",
      "execution_count": null,
      "metadata": {
        "colab": {
          "base_uri": "https://localhost:8080/"
        },
        "id": "F0DYcqZ72RMe",
        "outputId": "92bb4ded-67a3-43ae-a4ca-6459eb68f900"
      },
      "outputs": [
        {
          "name": "stdout",
          "output_type": "stream",
          "text": [
            "15938144\n"
          ]
        }
      ],
      "source": [
        "print(sum([p.numel() for p in unet.parameters()]))"
      ]
    },
    {
      "cell_type": "code",
      "execution_count": null,
      "metadata": {
        "id": "EEvB3dKT2RMf"
      },
      "outputs": [],
      "source": [
        "lr = 1e-3\n",
        "epochs = 25\n",
        "loss_fn = nn.MSELoss()\n",
        "optimizer = torch.optim.Adam(unet.parameters(), lr=lr)\n",
        "schedular = torch.optim.lr_scheduler.OneCycleLR(optimizer, max_lr=lr, total_steps=epochs*len(train_dataloader))\n"
      ]
    },
    {
      "cell_type": "code",
      "execution_count": null,
      "metadata": {
        "id": "A1oBnHoX2RMf"
      },
      "outputs": [],
      "source": [
        "import matplotlib.pyplot as plt\n",
        "\n",
        "def show_image(image, msg=None):\n",
        "    single_image = image[0].detach().cpu().permute(1, 2, 0).numpy()\n",
        "    plt.imshow(single_image, cmap=\"gray\")\n",
        "    plt.title(f'{msg}Image')\n",
        "    plt.axis('off')\n",
        "    plt.show()\n"
      ]
    },
    {
      "cell_type": "code",
      "execution_count": null,
      "metadata": {
        "id": "2GECQm2W2RMf"
      },
      "outputs": [],
      "source": [
        "class DDPM:\n",
        "    def __init__(self, beta_min, beta_max, n_steps, device):\n",
        "        init_attr(self, locals())\n",
        "        self.beta = torch.linspace(self.beta_min, self.beta_max, self.n_steps)\n",
        "        self.alpha = 1 - self.beta\n",
        "        self.alpha_bar = self.alpha.cumprod(dim=0).to(self.device)\n",
        "        self.sigma = self.beta.sqrt()\n",
        "\n",
        "    def schedule(self, x):\n",
        "        t = torch.randint(0, self.n_steps, (len(x),), dtype=torch.long, device=self.device)\n",
        "        noise = torch.randn_like(x).to(self.device)\n",
        "        alpha_bar_t = self.alpha_bar[t].reshape(-1, 1, 1, 1)\n",
        "        mean = alpha_bar_t.sqrt()*x\n",
        "        variance = (1 - alpha_bar_t).sqrt()*noise\n",
        "        x = mean + variance\n",
        "        return x, t, noise\n",
        "\n",
        "    # @torch.inference_mode()\n",
        "    # def sample(self, model, sz, )\n",
        "    @torch.no_grad()\n",
        "    def sample(self, model, sz, c):\n",
        "        device = self.device\n",
        "        xt = torch.randn(sz, device=device)\n",
        "        preds = []\n",
        "        for t in reversed(range(self.n_steps)):\n",
        "            c = c.to(device)\n",
        "            t_batch = torch.full((xt.shape[0],), t, device=device, dtype=torch.long)\n",
        "            z = (torch.randn(xt.shape) if t > 0 else torch.zeros(xt.shape)).to(device)\n",
        "            ᾱ_t1 = self.alpha_bar[t-1]  if t > 0 else torch.tensor(1)\n",
        "            b̄_t = 1 - self.alpha_bar[t]\n",
        "            b̄_t1 = 1 - ᾱ_t1\n",
        "            noise_pred = model(xt, t_batch, c)\n",
        "            if t == 0: show_image(noise_pred)\n",
        "            x_0_hat = ((xt - b̄_t.sqrt() * noise_pred)/self.alpha_bar[t].sqrt()).clamp(-1,1)\n",
        "            xt = x_0_hat * ᾱ_t1.sqrt()*(1-self.alpha[t])/b̄_t + xt * self.alpha[t].sqrt()*b̄_t1/b̄_t + self.sigma[t]*z\n",
        "            preds.append(xt.cpu())\n",
        "        return preds\n",
        "\n",
        "    # @torch.no_grad()\n",
        "    # def sample(model, sz):\n",
        "    #     device = self.device\n",
        "    #     ps = next(model.parameters())\n",
        "    #     x_t = torch.randn(sz).to(device)\n",
        "    #     preds = []\n",
        "    #     for t in reversed(range(n_steps)):\n",
        "    #         t_batch = torch.full((x_t.shape[0],), t, device=ps.device, dtype=torch.long)\n",
        "    #         z = (torch.randn(x_t.shape) if t > 0 else torch.zeros(x_t.shape)).to(ps)\n",
        "    #         ᾱ_t1 = alphabar[t-1]  if t > 0 else torch.tensor(1)\n",
        "    #         b̄_t = 1-alphabar[t]\n",
        "    #         b̄_t1 = 1-ᾱ_t1\n",
        "    #         noise = model((x_t, t_batch))\n",
        "    #         x_0_hat = ((x_t - b̄_t.sqrt() * noise)/alphabar[t].sqrt())\n",
        "    #         x_t = x_0_hat * ᾱ_t1.sqrt()*(1-alpha[t])/b̄_t + x_t * alpha[t].sqrt()*b̄_t1/b̄_t + sigma[t]*z\n",
        "    #         preds.append(x_t.float().cpu())\n",
        "    #     return preds"
      ]
    },
    {
      "cell_type": "code",
      "execution_count": null,
      "metadata": {
        "id": "EjIGXM3c2RMg"
      },
      "outputs": [],
      "source": [
        "ddpm = DDPM(0.0001, 0.02, 1000, device)"
      ]
    },
    {
      "cell_type": "code",
      "execution_count": null,
      "metadata": {
        "id": "K-88Uf4x2RMg"
      },
      "outputs": [],
      "source": [
        "# for X, y in train_dataloader:\n",
        "#     X = X.to(device)\n",
        "#     xt, t, noise = ddpm.schedule(X)\n",
        "#     print(xt.shape)\n",
        "#     show_image(xt, \"Noised \")\n",
        "#     print(noise.shape)\n",
        "#     show_image(noise, \"Actual Noise \")\n",
        "#     print(t.shape)\n",
        "#     break\n"
      ]
    },
    {
      "cell_type": "code",
      "execution_count": null,
      "metadata": {
        "id": "KjlKLB3C2RMg"
      },
      "outputs": [],
      "source": [
        "def train(model, epochs=9, print_freq=1000):\n",
        "    model.to(device)\n",
        "    for epoch in trange(epochs):\n",
        "        model.train()\n",
        "        total_loss = 0\n",
        "        for batch, (X, y) in enumerate(train_dataloader):\n",
        "            X, y = X.to(device), y.to(device)\n",
        "            xt, t, noise = ddpm.schedule(X)\n",
        "            pred = model(xt, t, y)\n",
        "            loss = loss_fn(pred, noise)\n",
        "            total_loss += loss.item()\n",
        "            optimizer.zero_grad()\n",
        "            loss.backward()\n",
        "            optimizer.step()\n",
        "\n",
        "            if batch % print_freq == 0:\n",
        "                # show_image(xt)\n",
        "                print(f\"Epoch: {epoch}, Batch: {batch}, Loss: {loss.item()}\")\n",
        "\n",
        "        schedular.step()\n",
        "        print(f\"Epoch: {epoch} = Loss: {total_loss/len(train_dataloader)}\")\n",
        "        torch.save(unet.state_dict(), \"./Saved Models/unet_model.pth\")\n"
      ]
    },
    {
      "cell_type": "code",
      "execution_count": null,
      "metadata": {
        "id": "ty3wLohq6DPu"
      },
      "outputs": [],
      "source": [
        "torch.save(unet.state_dict(), \"./Saved Models/unet_model.pth\")"
      ]
    },
    {
      "cell_type": "code",
      "execution_count": null,
      "metadata": {
        "colab": {
          "base_uri": "https://localhost:8080/"
        },
        "id": "jdZBNBx22RMg",
        "outputId": "e83be590-e323-4b88-b69f-2ff061477034"
      },
      "outputs": [
        {
          "name": "stderr",
          "output_type": "stream",
          "text": [
            "\r  0%|          | 0/1 [00:00<?, ?it/s]/usr/local/lib/python3.10/dist-packages/torchvision/transforms/functional.py:1603: UserWarning: The default value of the antialias parameter of all the resizing transforms (Resize(), RandomResizedCrop(), etc.) will change from None to True in v0.17, in order to be consistent across the PIL and Tensor backends. To suppress this warning, directly pass antialias=True (recommended, future default), antialias=None (current default, which means False for Tensors and True for PIL), or antialias=False (only works on Tensors - PIL will still use antialiasing). This also applies if you are using the inference transforms from the models weights: update the call to weights.transforms(antialias=True).\n",
            "  warnings.warn(\n"
          ]
        },
        {
          "name": "stdout",
          "output_type": "stream",
          "text": [
            "Epoch: 0, Batch: 0, Loss: 1.0629916191101074\n"
          ]
        },
        {
          "name": "stderr",
          "output_type": "stream",
          "text": [
            "100%|██████████| 1/1 [06:48<00:00, 408.36s/it]"
          ]
        },
        {
          "name": "stdout",
          "output_type": "stream",
          "text": [
            "Epoch: 0 = Loss: 0.12227272962940845\n"
          ]
        },
        {
          "name": "stderr",
          "output_type": "stream",
          "text": [
            "\n"
          ]
        }
      ],
      "source": [
        "train(unet)"
      ]
    },
    {
      "cell_type": "code",
      "execution_count": null,
      "metadata": {
        "colab": {
          "base_uri": "https://localhost:8080/"
        },
        "id": "FltzEvTW2RMg",
        "outputId": "6c10e042-7832-4129-f9ad-24fc2dbbc6cf"
      },
      "outputs": [
        {
          "name": "stderr",
          "output_type": "stream",
          "text": [
            "\r  0%|          | 0/9 [00:00<?, ?it/s]"
          ]
        },
        {
          "name": "stdout",
          "output_type": "stream",
          "text": [
            "Epoch: 0, Batch: 0, Loss: 0.04540402069687843\n",
            "Epoch: 0 = Loss: 0.0448182977930601\n"
          ]
        },
        {
          "name": "stderr",
          "output_type": "stream",
          "text": [
            "\r 11%|█         | 1/9 [06:48<54:30, 408.81s/it]"
          ]
        },
        {
          "name": "stdout",
          "output_type": "stream",
          "text": [
            "Epoch: 1, Batch: 0, Loss: 0.04882441461086273\n",
            "Epoch: 1 = Loss: 0.034834669307192\n"
          ]
        },
        {
          "name": "stderr",
          "output_type": "stream",
          "text": [
            "\r 22%|██▏       | 2/9 [13:37<47:40, 408.66s/it]"
          ]
        },
        {
          "name": "stdout",
          "output_type": "stream",
          "text": [
            "Epoch: 2, Batch: 0, Loss: 0.027844727039337158\n",
            "Epoch: 2 = Loss: 0.02893354755236523\n"
          ]
        },
        {
          "name": "stderr",
          "output_type": "stream",
          "text": [
            "\r 33%|███▎      | 3/9 [20:25<40:51, 408.52s/it]"
          ]
        },
        {
          "name": "stdout",
          "output_type": "stream",
          "text": [
            "Epoch: 3, Batch: 0, Loss: 0.039535582065582275\n",
            "Epoch: 3 = Loss: 0.025343207204575415\n"
          ]
        },
        {
          "name": "stderr",
          "output_type": "stream",
          "text": [
            "\r 44%|████▍     | 4/9 [27:14<34:02, 408.45s/it]"
          ]
        },
        {
          "name": "stdout",
          "output_type": "stream",
          "text": [
            "Epoch: 4, Batch: 0, Loss: 0.01927243173122406\n",
            "Epoch: 4 = Loss: 0.02348162043990611\n"
          ]
        },
        {
          "name": "stderr",
          "output_type": "stream",
          "text": [
            "\r 56%|█████▌    | 5/9 [34:02<27:13, 408.33s/it]"
          ]
        },
        {
          "name": "stdout",
          "output_type": "stream",
          "text": [
            "Epoch: 5, Batch: 0, Loss: 0.01720987632870674\n",
            "Epoch: 5 = Loss: 0.02193930395531343\n"
          ]
        },
        {
          "name": "stderr",
          "output_type": "stream",
          "text": [
            "\r 67%|██████▋   | 6/9 [40:50<20:24, 408.23s/it]"
          ]
        },
        {
          "name": "stdout",
          "output_type": "stream",
          "text": [
            "Epoch: 6, Batch: 0, Loss: 0.012600891292095184\n",
            "Epoch: 6 = Loss: 0.020743767211614833\n"
          ]
        },
        {
          "name": "stderr",
          "output_type": "stream",
          "text": [
            "\r 78%|███████▊  | 7/9 [47:38<13:36, 408.21s/it]"
          ]
        },
        {
          "name": "stdout",
          "output_type": "stream",
          "text": [
            "Epoch: 7, Batch: 0, Loss: 0.014024695381522179\n",
            "Epoch: 7 = Loss: 0.020491265934079822\n"
          ]
        },
        {
          "name": "stderr",
          "output_type": "stream",
          "text": [
            "\r 89%|████████▉ | 8/9 [54:26<06:48, 408.16s/it]"
          ]
        },
        {
          "name": "stdout",
          "output_type": "stream",
          "text": [
            "Epoch: 8, Batch: 0, Loss: 0.014572408981621265\n",
            "Epoch: 8 = Loss: 0.019435246034201655\n"
          ]
        },
        {
          "name": "stderr",
          "output_type": "stream",
          "text": [
            "100%|██████████| 9/9 [1:01:14<00:00, 408.33s/it]\n"
          ]
        }
      ],
      "source": [
        "train(unet)"
      ]
    },
    {
      "cell_type": "code",
      "execution_count": null,
      "metadata": {
        "colab": {
          "base_uri": "https://localhost:8080/",
          "height": 428
        },
        "id": "SPI3qVBu2RMg",
        "outputId": "d351be26-8cd3-4b5b-855d-5caf782b1133"
      },
      "outputs": [
        {
          "data": {
            "image/png": "[encoded data removed]",
            "text/plain": [
              "<Figure size 640x480 with 1 Axes>"
            ]
          },
          "metadata": {},
          "output_type": "display_data"
        }
      ],
      "source": [
        "sample = ddpm.sample(unet, (2, 1, 32, 32), torch.tensor(5))"
      ]
    },
    {
      "cell_type": "code",
      "execution_count": null,
      "metadata": {
        "colab": {
          "base_uri": "https://localhost:8080/",
          "height": 428
        },
        "id": "-MAUg-vwItcU",
        "outputId": "306119bf-25c5-4c3d-bbd0-aa9ae99658be"
      },
      "outputs": [
        {
          "data": {
            "image/png": "[encoded data removed]",
            "text/plain": [
              "<Figure size 640x480 with 1 Axes>"
            ]
          },
          "metadata": {},
          "output_type": "display_data"
        }
      ],
      "source": [
        "show_image(sample[-1])"
      ]
    },
    {
      "cell_type": "code",
      "execution_count": null,
      "metadata": {
        "id": "1wpFRXrv2RMg"
      },
      "outputs": [],
      "source": [
        "# def sample():\n",
        "#     model.eval()\n",
        "#     with torch.inference_mode():\n",
        "#         x = torch.randn"
      ]
    }
  ],
  "metadata": {
    "accelerator": "GPU",
    "colab": {
      "gpuType": "T4",
      "provenance": []
    },
    "kernelspec": {
      "display_name": "Python 3",
      "name": "python3"
    },
    "language_info": {
      "codemirror_mode": {
        "name": "ipython",
        "version": 3
      },
      "file_extension": ".py",
      "mimetype": "text/x-python",
      "name": "python",
      "nbconvert_exporter": "python",
      "pygments_lexer": "ipython3",
      "version": "3.9.12"
    }
  },
  "nbformat": 4,
  "nbformat_minor": 0
}
