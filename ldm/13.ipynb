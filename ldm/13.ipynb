{
 "cells": [
  {
   "cell_type": "code",
   "execution_count": 1,
   "metadata": {},
   "outputs": [],
   "source": [
    "import torch\n",
    "from torch import nn\n",
    "import torchvision\n",
    "from torchvision import transforms\n",
    "\n",
    "from tqdm import trange\n",
    "from utils import *\n",
    "from learner import *\n",
    "from unet import *\n",
    "from attention import *\n",
    "from time_embedding import *\n",
    "from vae import *\n",
    "from ddpm import *\n"
   ]
  },
  {
   "cell_type": "code",
   "execution_count": 2,
   "metadata": {},
   "outputs": [],
   "source": [
    "# transform = transforms.Compose([transforms.ToTensor()])\n",
    "transform = transforms.Compose([transforms.ToTensor(), transforms.Resize((32, 32))])\n",
    "train_dataset = torchvision.datasets.FashionMNIST(root='./data', train=True, download=True, transform=transform)\n",
    "test_dataset = torchvision.datasets.FashionMNIST(root='./data', train=False, download=True, transform=transform)\n"
   ]
  },
  {
   "cell_type": "code",
   "execution_count": 3,
   "metadata": {},
   "outputs": [],
   "source": [
    "BATCH_SIZE = 32\n",
    "device = \"cuda\" if torch.cuda.is_available() else \"cpu\""
   ]
  },
  {
   "cell_type": "code",
   "execution_count": 4,
   "metadata": {},
   "outputs": [],
   "source": [
    "# def data_collate(batch):\n",
    "#     X, y = zip(*batch)\n",
    "#     ddpm = DDPM(0, 1, 5)\n",
    "#     X = torch.stack(X, dim=0)\n",
    "#     y = torch.tensor(y)\n",
    "#     (X, t), noise = ddpm.schedule(X)\n",
    "#     return (X, t, y), noise\n"
   ]
  },
  {
   "cell_type": "code",
   "execution_count": 5,
   "metadata": {},
   "outputs": [],
   "source": [
    "train_dataloader, test_dataloader, classes = dataloader(train_dataset, test_dataset, BATCH_SIZE)"
   ]
  },
  {
   "cell_type": "code",
   "execution_count": 6,
   "metadata": {},
   "outputs": [],
   "source": [
    "unet = UNET(10, 1, 1, (32,64,128,256))"
   ]
  },
  {
   "cell_type": "code",
   "execution_count": 7,
   "metadata": {},
   "outputs": [],
   "source": [
    "lr = 1e-3\n",
    "epochs = 25\n",
    "loss_fn = nn.MSELoss()\n",
    "optimizer = torch.optim.Adam(unet.parameters(), lr=lr)\n",
    "schedular = torch.optim.lr_scheduler.OneCycleLR(optimizer, max_lr=lr, total_steps=epochs*len(train_dataloader))\n"
   ]
  },
  {
   "cell_type": "code",
   "execution_count": 8,
   "metadata": {},
   "outputs": [],
   "source": [
    "import matplotlib.pyplot as plt\n",
    "\n",
    "def show_image(image, msg=None):\n",
    "    single_image = image[0].detach().cpu().permute(1, 2, 0).numpy()\n",
    "    plt.imshow(single_image)\n",
    "    plt.title(f'{msg}Image')\n",
    "    plt.axis('off')\n",
    "    plt.show()\n"
   ]
  },
  {
   "cell_type": "code",
   "execution_count": 9,
   "metadata": {},
   "outputs": [],
   "source": [
    "class DDPM:\n",
    "    def __init__(self, beta_min, beta_max, n_steps, device):\n",
    "        init_attr(self, locals())\n",
    "        self.beta = torch.linspace(self.beta_min, self.beta_max, self.n_steps)\n",
    "        self.alpha = 1 - self.beta\n",
    "        self.alpha_bar = self.alpha.cumprod(dim=0).to(self.device)\n",
    "    \n",
    "    def schedule(self, x):\n",
    "        t = torch.randint(0, self.n_steps, (len(x),), dtype=torch.long, device=self.device)\n",
    "        noise = torch.randn_like(x).to(self.device)\n",
    "        alpha_bar_t = self.alpha_bar[t].reshape(-1, 1, 1, 1)\n",
    "        mean = alpha_bar_t.sqrt()*x\n",
    "        variance = (1 - alpha_bar_t).sqrt()*noise\n",
    "        x = mean + variance\n",
    "        return x, t, noise\n"
   ]
  },
  {
   "cell_type": "code",
   "execution_count": 10,
   "metadata": {},
   "outputs": [],
   "source": [
    "ddpm = DDPM(0.0001, 0.02, 1000, device)"
   ]
  },
  {
   "cell_type": "code",
   "execution_count": 11,
   "metadata": {},
   "outputs": [],
   "source": [
    "# for X, y in train_dataloader:\n",
    "#     X = X.to(device)\n",
    "#     xt, t, noise = ddpm.schedule(X)\n",
    "#     print(xt.shape)\n",
    "#     show_image(xt, \"Noised \")\n",
    "#     print(noise.shape)\n",
    "#     show_image(noise, \"Actual Noise \")\n",
    "#     print(t.shape)\n",
    "#     break\n"
   ]
  },
  {
   "cell_type": "code",
   "execution_count": 12,
   "metadata": {},
   "outputs": [],
   "source": [
    "def train(model, epochs=1):\n",
    "    model.to(device)\n",
    "    for epoch in trange(epochs):\n",
    "        model.train()\n",
    "        loss_calc = 0\n",
    "        for X, y in train_dataloader:\n",
    "            X, y = X.to(device), y.to(device)\n",
    "            xt, t, noise = ddpm.schedule(X)\n",
    "            pred = model(xt, t, y)\n",
    "            loss = loss_fn(pred, noise)\n",
    "            loss_calc += loss.item()\n",
    "            optimizer.zero_grad()\n",
    "            loss.backward()\n",
    "            optimizer.step()\n",
    "        print(f\"Epoch: {epoch} = Loss: {loss_calc/len(train_dataloader)}\")"
   ]
  },
  {
   "cell_type": "code",
   "execution_count": 13,
   "metadata": {},
   "outputs": [
    {
     "data": {
      "application/vnd.jupyter.widget-view+json": {
       "model_id": "a525c1cd3cba48db861f3299c5b82e92",
       "version_major": 2,
       "version_minor": 0
      },
      "text/plain": [
       "  0%|          | 0/1 [00:00<?, ?it/s]"
      ]
     },
     "metadata": {},
     "output_type": "display_data"
    },
    {
     "name": "stderr",
     "output_type": "stream",
     "text": [
      "d:\\Machine Learning\\pytorch\\lib\\site-packages\\torchvision\\transforms\\functional.py:1603: UserWarning: The default value of the antialias parameter of all the resizing transforms (Resize(), RandomResizedCrop(), etc.) will change from None to True in v0.17, in order to be consistent across the PIL and Tensor backends. To suppress this warning, directly pass antialias=True (recommended, future default), antialias=None (current default, which means False for Tensors and True for PIL), or antialias=False (only works on Tensors - PIL will still use antialiasing). This also applies if you are using the inference transforms from the models weights: update the call to weights.transforms(antialias=True).\n",
      "  warnings.warn(\n"
     ]
    },
    {
     "name": "stdout",
     "output_type": "stream",
     "text": [
      "Epoch: 0 = Loss: 0.09340511672298113\n"
     ]
    }
   ],
   "source": [
    "train(unet)"
   ]
  },
  {
   "cell_type": "code",
   "execution_count": 14,
   "metadata": {},
   "outputs": [],
   "source": [
    "torch.save(unet.state_dict(), \"./Saved Models/unet_model_2023_12_31_8_11.pth\")"
   ]
  }
 ],
 "metadata": {
  "kernelspec": {
   "display_name": "pytorch",
   "language": "python",
   "name": "python3"
  },
  "language_info": {
   "codemirror_mode": {
    "name": "ipython",
    "version": 3
   },
   "file_extension": ".py",
   "mimetype": "text/x-python",
   "name": "python",
   "nbconvert_exporter": "python",
   "pygments_lexer": "ipython3",
   "version": "3.9.12"
  }
 },
 "nbformat": 4,
 "nbformat_minor": 2
}
