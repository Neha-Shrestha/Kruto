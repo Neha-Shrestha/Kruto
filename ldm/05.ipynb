{
 "cells": [
  {
   "cell_type": "code",
   "execution_count": 134,
   "metadata": {},
   "outputs": [],
   "source": [
    "import torch\n",
    "from torch import nn\n",
    "import torchvision\n",
    "from torchvision import transforms"
   ]
  },
  {
   "cell_type": "code",
   "execution_count": 135,
   "metadata": {},
   "outputs": [],
   "source": [
    "transform = transforms.Compose([transforms.ToTensor()])\n",
    "train_dataset = torchvision.datasets.FashionMNIST(root='./data', train=True, download=True, transform=transform)\n",
    "test_dataset = torchvision.datasets.FashionMNIST(root='./data', train=False, download=True, transform=transform)"
   ]
  },
  {
   "cell_type": "code",
   "execution_count": 136,
   "metadata": {},
   "outputs": [],
   "source": [
    "from torch.utils.data import DataLoader"
   ]
  },
  {
   "cell_type": "code",
   "execution_count": 137,
   "metadata": {},
   "outputs": [],
   "source": [
    "def dataloader(train_dataset, test_dataset, batch_size):\n",
    "    return (\n",
    "        DataLoader(dataset=train_dataset, batch_size=batch_size, shuffle=True), \n",
    "        DataLoader(dataset=test_dataset, batch_size=batch_size, shuffle=False),\n",
    "        train_dataset.classes\n",
    "    )"
   ]
  },
  {
   "cell_type": "code",
   "execution_count": 138,
   "metadata": {},
   "outputs": [],
   "source": [
    "BATCH_SIZE = 64\n",
    "train_dataloader, test_dataloader, class_names = dataloader(train_dataset, test_dataset, BATCH_SIZE)"
   ]
  },
  {
   "cell_type": "code",
   "execution_count": 139,
   "metadata": {},
   "outputs": [
    {
     "data": {
      "text/plain": [
       "'cuda'"
      ]
     },
     "execution_count": 139,
     "metadata": {},
     "output_type": "execute_result"
    }
   ],
   "source": [
    "device = \"cuda\" if torch.cuda.is_available() else \"cpu\"\n",
    "device"
   ]
  },
  {
   "cell_type": "code",
   "execution_count": 140,
   "metadata": {},
   "outputs": [],
   "source": [
    "# new conv\n",
    "def conv(ni, nf, ks=3, stride=2, act=nn.ReLU, norm=None, bias=None):\n",
    "    if bias is None: bias = not isinstance(norm, (nn.BatchNorm1d,nn.BatchNorm2d,nn.BatchNorm3d))\n",
    "    layers = [nn.Conv2d(ni, nf, stride=stride, kernel_size=ks, padding=ks//2, bias=bias)]\n",
    "    if norm: layers.append(norm(nf))\n",
    "    if act: layers.append(act())\n",
    "    return nn.Sequential(*layers)"
   ]
  },
  {
   "cell_type": "code",
   "execution_count": 141,
   "metadata": {},
   "outputs": [],
   "source": [
    "def get_model(act=nn.ReLU, nfs=(8,16,32,64,128), norm=nn.BatchNorm2d):\n",
    "    layers = [conv(1, 8, stride=1, act=act, norm=norm)]\n",
    "    layers += [conv(nfs[i], nfs[i+1], act=act, norm=norm) for i in range(len(nfs)-1)]\n",
    "    return nn.Sequential(\n",
    "        *layers, \n",
    "        conv(nfs[-1], 10, act=None, norm=norm, bias=True), \n",
    "        nn.Flatten()\n",
    "    ).to(device)"
   ]
  },
  {
   "cell_type": "code",
   "execution_count": 142,
   "metadata": {},
   "outputs": [],
   "source": [
    "model = get_model(norm=nn.BatchNorm2d)"
   ]
  },
  {
   "cell_type": "code",
   "execution_count": 143,
   "metadata": {},
   "outputs": [],
   "source": [
    "lr = 6e-2\n",
    "epochs = 5\n",
    "loss_fn = nn.CrossEntropyLoss()\n",
    "optimizer = torch.optim.AdamW(params=model.parameters(), lr=lr)\n",
    "scheduler = torch.optim.lr_scheduler.OneCycleLR(optimizer, max_lr=lr, total_steps=epochs*len(train_dataloader))"
   ]
  },
  {
   "cell_type": "code",
   "execution_count": 144,
   "metadata": {},
   "outputs": [],
   "source": [
    "from torcheval.metrics import MulticlassAccuracy, Mean\n",
    "accuracy_metric = MulticlassAccuracy(device=device)\n",
    "loss_metric = Mean(device=device)"
   ]
  },
  {
   "cell_type": "code",
   "execution_count": 145,
   "metadata": {},
   "outputs": [],
   "source": [
    "# in utils or join it?\n",
    "def compute_result(mode, epoch, loss_metric, accuracy_metric):\n",
    "    result = {\n",
    "        \"epoch\": epoch,\n",
    "        \"mode\": mode,\n",
    "        \"loss\": loss_metric.compute().item(),\n",
    "        \"accuracy\": accuracy_metric.compute().item()\n",
    "    }\n",
    "    print(f\"{result['epoch']}\\t{result['mode']}\\t{result['loss']:.4f}\\t{result['accuracy']:.4f}\")\n",
    "    loss_metric.reset()\n",
    "    accuracy_metric.reset()\n",
    "    return result\n"
   ]
  },
  {
   "cell_type": "code",
   "execution_count": 146,
   "metadata": {},
   "outputs": [],
   "source": [
    "# new train.py\n",
    "from tqdm.notebook import tqdm_notebook\n",
    "from IPython.display import display\n",
    "\n",
    "def fit(epochs, model, train_dataloader, test_dataloader, loss_fn, optimizer, scheduler, device):\n",
    "    model.to(device)\n",
    "    results = []\n",
    "\n",
    "    progress_bar = trange(epochs, desc=\"Progress\")\n",
    "    display(progress_bar)\n",
    "    print(\"Epoch\\tMode\\tLoss\\tAccuracy\")\n",
    "\n",
    "    for epoch in progress_bar:\n",
    "        model.train()\n",
    "        for X, y in train_dataloader:\n",
    "            X, y = X.to(device), y.to(device)\n",
    "            pred = model(X)\n",
    "            loss = loss_fn(pred, y)\n",
    "            loss_metric.update(loss)    \n",
    "            accuracy_metric.update(pred, y)\n",
    "            optimizer.zero_grad()\n",
    "            loss.backward()\n",
    "            optimizer.step()    \n",
    "        \n",
    "        results.append(compute_result(\"train\", epoch, loss_metric, accuracy_metric))\n",
    "\n",
    "        model.eval()\n",
    "        with torch.inference_mode():\n",
    "            for X, y in test_dataloader:\n",
    "                X, y = X.to(device), y.to(device)\n",
    "                pred = model(X)\n",
    "                loss_fn(pred, y)\n",
    "                loss_metric.update(loss)\n",
    "                accuracy_metric.update(pred, y)\n",
    "            results.append(compute_result(\"test\", epoch, loss_metric, accuracy_metric))\n",
    "                        \n",
    "        scheduler.step()\n",
    "        \n",
    "    return results"
   ]
  },
  {
   "cell_type": "code",
   "execution_count": 147,
   "metadata": {},
   "outputs": [
    {
     "data": {
      "application/vnd.jupyter.widget-view+json": {
       "model_id": "dc2e93797dae482f8b98e9aa7414bae9",
       "version_major": 2,
       "version_minor": 0
      },
      "text/plain": [
       "Progress:   0%|          | 0/5 [00:00<?, ?it/s]"
      ]
     },
     "metadata": {},
     "output_type": "display_data"
    },
    {
     "data": {
      "text/plain": [
       "<tqdm.notebook.tqdm_notebook at 0x2e18670ac40>"
      ]
     },
     "metadata": {},
     "output_type": "display_data"
    },
    {
     "name": "stdout",
     "output_type": "stream",
     "text": [
      "Epoch\tMode\tLoss\tAccuracy\n",
      "0\ttrain\t0.4785\t0.8601\n",
      "0\ttest\t0.5192\t0.8870\n",
      "1\ttrain\t0.3120\t0.8971\n",
      "1\ttest\t0.4362\t0.9006\n",
      "2\ttrain\t0.2657\t0.9089\n",
      "2\ttest\t0.2880\t0.9001\n",
      "3\ttrain\t0.2337\t0.9190\n",
      "3\ttest\t0.1958\t0.9096\n",
      "4\ttrain\t0.2101\t0.9264\n",
      "4\ttest\t0.2487\t0.9099\n"
     ]
    }
   ],
   "source": [
    "results = fit(\n",
    "    epochs=epochs, \n",
    "    model=model, \n",
    "    train_dataloader=train_dataloader, \n",
    "    test_dataloader=test_dataloader, \n",
    "    loss_fn=loss_fn, \n",
    "    optimizer=optimizer, \n",
    "    scheduler=scheduler, \n",
    "    device=device\n",
    ")"
   ]
  },
  {
   "cell_type": "code",
   "execution_count": 156,
   "metadata": {},
   "outputs": [],
   "source": [
    "# in utils.py\n",
    "import matplotlib.pyplot as plt\n",
    "\n",
    "def plot_curves(loss, epochs):\n",
    "    plt.figure(figsize=(10, 6))\n",
    "    plt.plot(epochs, loss)\n",
    "    plt.xlabel('Epochs')\n",
    "    plt.ylabel(\"loss\")\n",
    "    plt.legend()\n",
    "    plt.show()"
   ]
  },
  {
   "cell_type": "code",
   "execution_count": 157,
   "metadata": {},
   "outputs": [
    {
     "name": "stderr",
     "output_type": "stream",
     "text": [
      "WARNING:matplotlib.legend:No artists with labels found to put in legend.  Note that artists whose label start with an underscore are ignored when legend() is called with no argument.\n"
     ]
    },
    {
     "data": {
      "image/png": "[encoded data removed]",
      "text/plain": [
       "<Figure size 1000x600 with 1 Axes>"
      ]
     },
     "metadata": {},
     "output_type": "display_data"
    }
   ],
   "source": [
    "loss = []\n",
    "epochs = []\n",
    "for result in results:\n",
    "    if result['mode'] == \"train\":\n",
    "        loss.append(result[\"loss\"])\n",
    "        epochs.append(result[\"epoch\"])\n",
    "plot_curves(loss, epochs)"
   ]
  }
 ],
 "metadata": {
  "kernelspec": {
   "display_name": "Python 3 (ipykernel)",
   "language": "python",
   "name": "python3"
  },
  "language_info": {
   "codemirror_mode": {
    "name": "ipython",
    "version": 3
   },
   "file_extension": ".py",
   "mimetype": "text/x-python",
   "name": "python",
   "nbconvert_exporter": "python",
   "pygments_lexer": "ipython3",
   "version": "3.9.12"
  }
 },
 "nbformat": 4,
 "nbformat_minor": 4
}
