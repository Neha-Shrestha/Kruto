{
 "cells": [
  {
   "cell_type": "code",
   "execution_count": 2,
   "metadata": {},
   "outputs": [
    {
     "name": "stderr",
     "output_type": "stream",
     "text": [
      "d:\\Machine Learning\\pytorch\\lib\\site-packages\\torchaudio\\backend\\utils.py:74: UserWarning: No audio backend is available.\n",
      "  warnings.warn(\"No audio backend is available.\")\n"
     ]
    }
   ],
   "source": [
    "import torch\n",
    "from torch import nn\n",
    "import torchvision\n",
    "from torchvision import transforms\n",
    "\n",
    "from utils import *\n",
    "from learner import *"
   ]
  },
  {
   "cell_type": "code",
   "execution_count": 3,
   "metadata": {},
   "outputs": [],
   "source": [
    "BATCH_SIZE = 64\n",
    "device = \"cuda\" if torch.cuda.is_available() else \"cpu\""
   ]
  },
  {
   "cell_type": "markdown",
   "metadata": {},
   "source": [
    "Data processing"
   ]
  },
  {
   "cell_type": "code",
   "execution_count": 17,
   "metadata": {},
   "outputs": [],
   "source": [
    "act_gr = nn.LeakyReLU(0.1)\n",
    "nfs = (32, 64, 128, 256, 512, 1024)\n",
    "nbks = (3, 2, 2, 1, 1)"
   ]
  },
  {
   "cell_type": "code",
   "execution_count": 23,
   "metadata": {},
   "outputs": [],
   "source": [
    "def conv(ic, oc, ks=3, s=1, act=nn.ReLU, norm=None, bias=True):\n",
    "    layers = []\n",
    "    if norm: layers.append(norm(ic))\n",
    "    if act: layers.append(act())\n",
    "    layers.append(nn.Conv2d(in_channels=ic, out_channels=oc, kernel_size=ks, stride=s, padding=ks//2, bias=bias))\n",
    "    return nn.Sequential(*layers)"
   ]
  },
  {
   "cell_type": "code",
   "execution_count": 24,
   "metadata": {},
   "outputs": [],
   "source": [
    "def conv_block(ic, oc, s, act=act_gr, norm=None, ks=3):\n",
    "    return nn.Sequential(\n",
    "        conv(ic=ic, oc=oc, s=1, act=act, norm=norm, ks=ks),\n",
    "        conv(ic=ic, oc=oc, s=s, act=act, norm=norm, ks=ks)\n",
    "    )"
   ]
  },
  {
   "cell_type": "code",
   "execution_count": 25,
   "metadata": {},
   "outputs": [],
   "source": [
    "class ResBlock(nn.Module):\n",
    "    def __init__(self, ic, oc, ks=3, s=1, act=act_gr, norm=None):\n",
    "        super().__init__()\n",
    "        self.convs = conv_block(ic=ic, oc=oc, s=s, act=act, norm=norm)\n",
    "        self.id_conv = _ if ic == oc else conv(ic=ic, oc=oc, ks=1, s=1, act=None, norm=norm)\n",
    "        self.pool = _ if s==1 else nn.AvgPool2d(2, ceil_mode=True)\n",
    "\n",
    "    def forward(self, x):\n",
    "        return self.convs(x) + self.id_conv(self.pool(x))"
   ]
  },
  {
   "cell_type": "code",
   "execution_count": 31,
   "metadata": {},
   "outputs": [],
   "source": [
    "def res_blocks(n_bk, ic, oc, s=1, ks=3, act=act_gr, norm=None):\n",
    "    return nn.Sequential(*[ResBlock(ic if i==0 else oc, oc, s=s if i==n_bk-1 else 1, ks=ks, act=act, norm=norm) for i in range(n_bk)])"
   ]
  },
  {
   "cell_type": "code",
   "execution_count": 32,
   "metadata": {},
   "outputs": [],
   "source": [
    "def get_dropmodel(act=act_gr, nfs=nfs, nbks=nbks, norm=nn.BatchNorm2d, drop=0.2):\n",
    "    layers = [nn.Conv2d(3, nfs[0], 5, padding=2)]\n",
    "    layers += [res_blocks(nbks[i], nfs[i], nfs[i+1], act=act, norm=norm, s=2) for i in range(len(nfs) - 1)]\n",
    "    layers += [act_gr(), norm(nfs[-1], nn.AdaptiveAvgPool2d(i), nn.Flatten(), nn.Dropout(drop))]\n",
    "    layers += [nn.Linear(nfs[-1], 200, bias=False), nn.BatchNorm1d(200)]\n",
    "    return nn.Sequential(*layers)"
   ]
  },
  {
   "cell_type": "code",
   "execution_count": 33,
   "metadata": {},
   "outputs": [
    {
     "ename": "TypeError",
     "evalue": "forward() missing 1 required positional argument: 'input'",
     "output_type": "error",
     "traceback": [
      "\u001b[1;31m---------------------------------------------------------------------------\u001b[0m",
      "\u001b[1;31mTypeError\u001b[0m                                 Traceback (most recent call last)",
      "\u001b[1;32md:\\Machine Learning\\pytorch\\Kruto\\ldm\\12.ipynb Cell 11\u001b[0m line \u001b[0;36m1\n\u001b[1;32m----> <a href='vscode-notebook-cell:/d%3A/Machine%20Learning/pytorch/Kruto/ldm/12.ipynb#X32sZmlsZQ%3D%3D?line=0'>1</a>\u001b[0m get_dropmodel(nbks\u001b[39m=\u001b[39;49m(\u001b[39m4\u001b[39;49m,\u001b[39m3\u001b[39;49m,\u001b[39m3\u001b[39;49m,\u001b[39m2\u001b[39;49m,\u001b[39m1\u001b[39;49m), drop\u001b[39m=\u001b[39;49m\u001b[39m0.1\u001b[39;49m)\n",
      "\u001b[1;32md:\\Machine Learning\\pytorch\\Kruto\\ldm\\12.ipynb Cell 11\u001b[0m line \u001b[0;36m3\n\u001b[0;32m      <a href='vscode-notebook-cell:/d%3A/Machine%20Learning/pytorch/Kruto/ldm/12.ipynb#X32sZmlsZQ%3D%3D?line=0'>1</a>\u001b[0m \u001b[39mdef\u001b[39;00m \u001b[39mget_dropmodel\u001b[39m(act\u001b[39m=\u001b[39mact_gr, nfs\u001b[39m=\u001b[39mnfs, nbks\u001b[39m=\u001b[39mnbks, norm\u001b[39m=\u001b[39mnn\u001b[39m.\u001b[39mBatchNorm2d, drop\u001b[39m=\u001b[39m\u001b[39m0.2\u001b[39m):\n\u001b[0;32m      <a href='vscode-notebook-cell:/d%3A/Machine%20Learning/pytorch/Kruto/ldm/12.ipynb#X32sZmlsZQ%3D%3D?line=1'>2</a>\u001b[0m     layers \u001b[39m=\u001b[39m [nn\u001b[39m.\u001b[39mConv2d(\u001b[39m3\u001b[39m, nfs[\u001b[39m0\u001b[39m], \u001b[39m5\u001b[39m, padding\u001b[39m=\u001b[39m\u001b[39m2\u001b[39m)]\n\u001b[1;32m----> <a href='vscode-notebook-cell:/d%3A/Machine%20Learning/pytorch/Kruto/ldm/12.ipynb#X32sZmlsZQ%3D%3D?line=2'>3</a>\u001b[0m     layers \u001b[39m+\u001b[39m\u001b[39m=\u001b[39m [res_blocks(nbks[i], nfs[i], nfs[i\u001b[39m+\u001b[39m\u001b[39m1\u001b[39m], act\u001b[39m=\u001b[39mact, norm\u001b[39m=\u001b[39mnorm, s\u001b[39m=\u001b[39m\u001b[39m2\u001b[39m) \u001b[39mfor\u001b[39;00m i \u001b[39min\u001b[39;00m \u001b[39mrange\u001b[39m(\u001b[39mlen\u001b[39m(nfs) \u001b[39m-\u001b[39m \u001b[39m1\u001b[39m)]\n\u001b[0;32m      <a href='vscode-notebook-cell:/d%3A/Machine%20Learning/pytorch/Kruto/ldm/12.ipynb#X32sZmlsZQ%3D%3D?line=3'>4</a>\u001b[0m     layers \u001b[39m+\u001b[39m\u001b[39m=\u001b[39m [act_gr(), norm(nfs[\u001b[39m-\u001b[39m\u001b[39m1\u001b[39m], nn\u001b[39m.\u001b[39mAdaptiveAvgPool2d(i), nn\u001b[39m.\u001b[39mFlatten(), nn\u001b[39m.\u001b[39mDropout(drop))]\n\u001b[0;32m      <a href='vscode-notebook-cell:/d%3A/Machine%20Learning/pytorch/Kruto/ldm/12.ipynb#X32sZmlsZQ%3D%3D?line=4'>5</a>\u001b[0m     layers \u001b[39m+\u001b[39m\u001b[39m=\u001b[39m [nn\u001b[39m.\u001b[39mLinear(nfs[\u001b[39m-\u001b[39m\u001b[39m1\u001b[39m], \u001b[39m200\u001b[39m, bias\u001b[39m=\u001b[39m\u001b[39mFalse\u001b[39;00m), nn\u001b[39m.\u001b[39mBatchNorm1d(\u001b[39m200\u001b[39m)]\n",
      "\u001b[1;32md:\\Machine Learning\\pytorch\\Kruto\\ldm\\12.ipynb Cell 11\u001b[0m line \u001b[0;36m3\n\u001b[0;32m      <a href='vscode-notebook-cell:/d%3A/Machine%20Learning/pytorch/Kruto/ldm/12.ipynb#X32sZmlsZQ%3D%3D?line=0'>1</a>\u001b[0m \u001b[39mdef\u001b[39;00m \u001b[39mget_dropmodel\u001b[39m(act\u001b[39m=\u001b[39mact_gr, nfs\u001b[39m=\u001b[39mnfs, nbks\u001b[39m=\u001b[39mnbks, norm\u001b[39m=\u001b[39mnn\u001b[39m.\u001b[39mBatchNorm2d, drop\u001b[39m=\u001b[39m\u001b[39m0.2\u001b[39m):\n\u001b[0;32m      <a href='vscode-notebook-cell:/d%3A/Machine%20Learning/pytorch/Kruto/ldm/12.ipynb#X32sZmlsZQ%3D%3D?line=1'>2</a>\u001b[0m     layers \u001b[39m=\u001b[39m [nn\u001b[39m.\u001b[39mConv2d(\u001b[39m3\u001b[39m, nfs[\u001b[39m0\u001b[39m], \u001b[39m5\u001b[39m, padding\u001b[39m=\u001b[39m\u001b[39m2\u001b[39m)]\n\u001b[1;32m----> <a href='vscode-notebook-cell:/d%3A/Machine%20Learning/pytorch/Kruto/ldm/12.ipynb#X32sZmlsZQ%3D%3D?line=2'>3</a>\u001b[0m     layers \u001b[39m+\u001b[39m\u001b[39m=\u001b[39m [res_blocks(nbks[i], nfs[i], nfs[i\u001b[39m+\u001b[39;49m\u001b[39m1\u001b[39;49m], act\u001b[39m=\u001b[39;49mact, norm\u001b[39m=\u001b[39;49mnorm, s\u001b[39m=\u001b[39;49m\u001b[39m2\u001b[39;49m) \u001b[39mfor\u001b[39;00m i \u001b[39min\u001b[39;00m \u001b[39mrange\u001b[39m(\u001b[39mlen\u001b[39m(nfs) \u001b[39m-\u001b[39m \u001b[39m1\u001b[39m)]\n\u001b[0;32m      <a href='vscode-notebook-cell:/d%3A/Machine%20Learning/pytorch/Kruto/ldm/12.ipynb#X32sZmlsZQ%3D%3D?line=3'>4</a>\u001b[0m     layers \u001b[39m+\u001b[39m\u001b[39m=\u001b[39m [act_gr(), norm(nfs[\u001b[39m-\u001b[39m\u001b[39m1\u001b[39m], nn\u001b[39m.\u001b[39mAdaptiveAvgPool2d(i), nn\u001b[39m.\u001b[39mFlatten(), nn\u001b[39m.\u001b[39mDropout(drop))]\n\u001b[0;32m      <a href='vscode-notebook-cell:/d%3A/Machine%20Learning/pytorch/Kruto/ldm/12.ipynb#X32sZmlsZQ%3D%3D?line=4'>5</a>\u001b[0m     layers \u001b[39m+\u001b[39m\u001b[39m=\u001b[39m [nn\u001b[39m.\u001b[39mLinear(nfs[\u001b[39m-\u001b[39m\u001b[39m1\u001b[39m], \u001b[39m200\u001b[39m, bias\u001b[39m=\u001b[39m\u001b[39mFalse\u001b[39;00m), nn\u001b[39m.\u001b[39mBatchNorm1d(\u001b[39m200\u001b[39m)]\n",
      "\u001b[1;32md:\\Machine Learning\\pytorch\\Kruto\\ldm\\12.ipynb Cell 11\u001b[0m line \u001b[0;36m2\n\u001b[0;32m      <a href='vscode-notebook-cell:/d%3A/Machine%20Learning/pytorch/Kruto/ldm/12.ipynb#X32sZmlsZQ%3D%3D?line=0'>1</a>\u001b[0m \u001b[39mdef\u001b[39;00m \u001b[39mres_blocks\u001b[39m(n_bk, ic, oc, s\u001b[39m=\u001b[39m\u001b[39m1\u001b[39m, ks\u001b[39m=\u001b[39m\u001b[39m3\u001b[39m, act\u001b[39m=\u001b[39mact_gr, norm\u001b[39m=\u001b[39m\u001b[39mNone\u001b[39;00m):\n\u001b[1;32m----> <a href='vscode-notebook-cell:/d%3A/Machine%20Learning/pytorch/Kruto/ldm/12.ipynb#X32sZmlsZQ%3D%3D?line=1'>2</a>\u001b[0m     \u001b[39mreturn\u001b[39;00m nn\u001b[39m.\u001b[39mSequential(\u001b[39m*\u001b[39m[ResBlock(ic \u001b[39mif\u001b[39;00m i\u001b[39m==\u001b[39m\u001b[39m0\u001b[39m \u001b[39melse\u001b[39;00m oc, oc, s\u001b[39m=\u001b[39ms \u001b[39mif\u001b[39;00m i\u001b[39m==\u001b[39mn_bk\u001b[39m-\u001b[39m\u001b[39m1\u001b[39m \u001b[39melse\u001b[39;00m \u001b[39m1\u001b[39m, ks\u001b[39m=\u001b[39mks, act\u001b[39m=\u001b[39mact, norm\u001b[39m=\u001b[39mnorm) \u001b[39mfor\u001b[39;00m i \u001b[39min\u001b[39;00m \u001b[39mrange\u001b[39m(n_bk)])\n",
      "\u001b[1;32md:\\Machine Learning\\pytorch\\Kruto\\ldm\\12.ipynb Cell 11\u001b[0m line \u001b[0;36m2\n\u001b[0;32m      <a href='vscode-notebook-cell:/d%3A/Machine%20Learning/pytorch/Kruto/ldm/12.ipynb#X32sZmlsZQ%3D%3D?line=0'>1</a>\u001b[0m \u001b[39mdef\u001b[39;00m \u001b[39mres_blocks\u001b[39m(n_bk, ic, oc, s\u001b[39m=\u001b[39m\u001b[39m1\u001b[39m, ks\u001b[39m=\u001b[39m\u001b[39m3\u001b[39m, act\u001b[39m=\u001b[39mact_gr, norm\u001b[39m=\u001b[39m\u001b[39mNone\u001b[39;00m):\n\u001b[1;32m----> <a href='vscode-notebook-cell:/d%3A/Machine%20Learning/pytorch/Kruto/ldm/12.ipynb#X32sZmlsZQ%3D%3D?line=1'>2</a>\u001b[0m     \u001b[39mreturn\u001b[39;00m nn\u001b[39m.\u001b[39mSequential(\u001b[39m*\u001b[39m[ResBlock(ic \u001b[39mif\u001b[39;49;00m i\u001b[39m==\u001b[39;49m\u001b[39m0\u001b[39;49m \u001b[39melse\u001b[39;49;00m oc, oc, s\u001b[39m=\u001b[39;49ms \u001b[39mif\u001b[39;49;00m i\u001b[39m==\u001b[39;49mn_bk\u001b[39m-\u001b[39;49m\u001b[39m1\u001b[39;49m \u001b[39melse\u001b[39;49;00m \u001b[39m1\u001b[39;49m, ks\u001b[39m=\u001b[39;49mks, act\u001b[39m=\u001b[39;49mact, norm\u001b[39m=\u001b[39;49mnorm) \u001b[39mfor\u001b[39;00m i \u001b[39min\u001b[39;00m \u001b[39mrange\u001b[39m(n_bk)])\n",
      "\u001b[1;32md:\\Machine Learning\\pytorch\\Kruto\\ldm\\12.ipynb Cell 11\u001b[0m line \u001b[0;36m4\n\u001b[0;32m      <a href='vscode-notebook-cell:/d%3A/Machine%20Learning/pytorch/Kruto/ldm/12.ipynb#X32sZmlsZQ%3D%3D?line=1'>2</a>\u001b[0m \u001b[39mdef\u001b[39;00m \u001b[39m__init__\u001b[39m(\u001b[39mself\u001b[39m, ic, oc, ks\u001b[39m=\u001b[39m\u001b[39m3\u001b[39m, s\u001b[39m=\u001b[39m\u001b[39m1\u001b[39m, act\u001b[39m=\u001b[39mact_gr, norm\u001b[39m=\u001b[39m\u001b[39mNone\u001b[39;00m):\n\u001b[0;32m      <a href='vscode-notebook-cell:/d%3A/Machine%20Learning/pytorch/Kruto/ldm/12.ipynb#X32sZmlsZQ%3D%3D?line=2'>3</a>\u001b[0m     \u001b[39msuper\u001b[39m()\u001b[39m.\u001b[39m\u001b[39m__init__\u001b[39m()\n\u001b[1;32m----> <a href='vscode-notebook-cell:/d%3A/Machine%20Learning/pytorch/Kruto/ldm/12.ipynb#X32sZmlsZQ%3D%3D?line=3'>4</a>\u001b[0m     \u001b[39mself\u001b[39m\u001b[39m.\u001b[39mconvs \u001b[39m=\u001b[39m conv_block(ic\u001b[39m=\u001b[39;49mic, oc\u001b[39m=\u001b[39;49moc, s\u001b[39m=\u001b[39;49ms, act\u001b[39m=\u001b[39;49mact, norm\u001b[39m=\u001b[39;49mnorm)\n\u001b[0;32m      <a href='vscode-notebook-cell:/d%3A/Machine%20Learning/pytorch/Kruto/ldm/12.ipynb#X32sZmlsZQ%3D%3D?line=4'>5</a>\u001b[0m     \u001b[39mself\u001b[39m\u001b[39m.\u001b[39mid_conv \u001b[39m=\u001b[39m _ \u001b[39mif\u001b[39;00m ic \u001b[39m==\u001b[39m oc \u001b[39melse\u001b[39;00m conv(ic\u001b[39m=\u001b[39mic, oc\u001b[39m=\u001b[39moc, ks\u001b[39m=\u001b[39m\u001b[39m1\u001b[39m, s\u001b[39m=\u001b[39m\u001b[39m1\u001b[39m, act\u001b[39m=\u001b[39m\u001b[39mNone\u001b[39;00m, norm\u001b[39m=\u001b[39mnorm)\n\u001b[0;32m      <a href='vscode-notebook-cell:/d%3A/Machine%20Learning/pytorch/Kruto/ldm/12.ipynb#X32sZmlsZQ%3D%3D?line=5'>6</a>\u001b[0m     \u001b[39mself\u001b[39m\u001b[39m.\u001b[39mpool \u001b[39m=\u001b[39m _ \u001b[39mif\u001b[39;00m s\u001b[39m==\u001b[39m\u001b[39m1\u001b[39m \u001b[39melse\u001b[39;00m nn\u001b[39m.\u001b[39mAvgPool2d(\u001b[39m2\u001b[39m, ceil_mode\u001b[39m=\u001b[39m\u001b[39mTrue\u001b[39;00m)\n",
      "\u001b[1;32md:\\Machine Learning\\pytorch\\Kruto\\ldm\\12.ipynb Cell 11\u001b[0m line \u001b[0;36m3\n\u001b[0;32m      <a href='vscode-notebook-cell:/d%3A/Machine%20Learning/pytorch/Kruto/ldm/12.ipynb#X32sZmlsZQ%3D%3D?line=0'>1</a>\u001b[0m \u001b[39mdef\u001b[39;00m \u001b[39mconv_block\u001b[39m(ic, oc, s, act\u001b[39m=\u001b[39mact_gr, norm\u001b[39m=\u001b[39m\u001b[39mNone\u001b[39;00m, ks\u001b[39m=\u001b[39m\u001b[39m3\u001b[39m):\n\u001b[0;32m      <a href='vscode-notebook-cell:/d%3A/Machine%20Learning/pytorch/Kruto/ldm/12.ipynb#X32sZmlsZQ%3D%3D?line=1'>2</a>\u001b[0m     \u001b[39mreturn\u001b[39;00m nn\u001b[39m.\u001b[39mSequential(\n\u001b[1;32m----> <a href='vscode-notebook-cell:/d%3A/Machine%20Learning/pytorch/Kruto/ldm/12.ipynb#X32sZmlsZQ%3D%3D?line=2'>3</a>\u001b[0m         conv(ic\u001b[39m=\u001b[39;49mic, oc\u001b[39m=\u001b[39;49moc, s\u001b[39m=\u001b[39;49m\u001b[39m1\u001b[39;49m, act\u001b[39m=\u001b[39;49mact, norm\u001b[39m=\u001b[39;49mnorm, ks\u001b[39m=\u001b[39;49mks),\n\u001b[0;32m      <a href='vscode-notebook-cell:/d%3A/Machine%20Learning/pytorch/Kruto/ldm/12.ipynb#X32sZmlsZQ%3D%3D?line=3'>4</a>\u001b[0m         conv(ic\u001b[39m=\u001b[39mic, oc\u001b[39m=\u001b[39moc, s\u001b[39m=\u001b[39ms, act\u001b[39m=\u001b[39mact, norm\u001b[39m=\u001b[39mnorm, ks\u001b[39m=\u001b[39mks)\n\u001b[0;32m      <a href='vscode-notebook-cell:/d%3A/Machine%20Learning/pytorch/Kruto/ldm/12.ipynb#X32sZmlsZQ%3D%3D?line=4'>5</a>\u001b[0m     )\n",
      "\u001b[1;32md:\\Machine Learning\\pytorch\\Kruto\\ldm\\12.ipynb Cell 11\u001b[0m line \u001b[0;36m4\n\u001b[0;32m      <a href='vscode-notebook-cell:/d%3A/Machine%20Learning/pytorch/Kruto/ldm/12.ipynb#X32sZmlsZQ%3D%3D?line=1'>2</a>\u001b[0m layers \u001b[39m=\u001b[39m []\n\u001b[0;32m      <a href='vscode-notebook-cell:/d%3A/Machine%20Learning/pytorch/Kruto/ldm/12.ipynb#X32sZmlsZQ%3D%3D?line=2'>3</a>\u001b[0m \u001b[39mif\u001b[39;00m norm: layers\u001b[39m.\u001b[39mappend(norm(ic))\n\u001b[1;32m----> <a href='vscode-notebook-cell:/d%3A/Machine%20Learning/pytorch/Kruto/ldm/12.ipynb#X32sZmlsZQ%3D%3D?line=3'>4</a>\u001b[0m \u001b[39mif\u001b[39;00m act: layers\u001b[39m.\u001b[39mappend(act())\n\u001b[0;32m      <a href='vscode-notebook-cell:/d%3A/Machine%20Learning/pytorch/Kruto/ldm/12.ipynb#X32sZmlsZQ%3D%3D?line=4'>5</a>\u001b[0m layers\u001b[39m.\u001b[39mappend(nn\u001b[39m.\u001b[39mConv2d(in_channels\u001b[39m=\u001b[39mic, out_channels\u001b[39m=\u001b[39moc, kernel_size\u001b[39m=\u001b[39mks, stride\u001b[39m=\u001b[39ms, padding\u001b[39m=\u001b[39mks\u001b[39m/\u001b[39m\u001b[39m/\u001b[39m\u001b[39m2\u001b[39m, bias\u001b[39m=\u001b[39mbias))\n\u001b[0;32m      <a href='vscode-notebook-cell:/d%3A/Machine%20Learning/pytorch/Kruto/ldm/12.ipynb#X32sZmlsZQ%3D%3D?line=5'>6</a>\u001b[0m \u001b[39mreturn\u001b[39;00m nn\u001b[39m.\u001b[39mSequential(\u001b[39m*\u001b[39mlayers)\n",
      "File \u001b[1;32md:\\Machine Learning\\pytorch\\lib\\site-packages\\torch\\nn\\modules\\module.py:1501\u001b[0m, in \u001b[0;36mModule._call_impl\u001b[1;34m(self, *args, **kwargs)\u001b[0m\n\u001b[0;32m   1496\u001b[0m \u001b[39m# If we don't have any hooks, we want to skip the rest of the logic in\u001b[39;00m\n\u001b[0;32m   1497\u001b[0m \u001b[39m# this function, and just call forward.\u001b[39;00m\n\u001b[0;32m   1498\u001b[0m \u001b[39mif\u001b[39;00m \u001b[39mnot\u001b[39;00m (\u001b[39mself\u001b[39m\u001b[39m.\u001b[39m_backward_hooks \u001b[39mor\u001b[39;00m \u001b[39mself\u001b[39m\u001b[39m.\u001b[39m_backward_pre_hooks \u001b[39mor\u001b[39;00m \u001b[39mself\u001b[39m\u001b[39m.\u001b[39m_forward_hooks \u001b[39mor\u001b[39;00m \u001b[39mself\u001b[39m\u001b[39m.\u001b[39m_forward_pre_hooks\n\u001b[0;32m   1499\u001b[0m         \u001b[39mor\u001b[39;00m _global_backward_pre_hooks \u001b[39mor\u001b[39;00m _global_backward_hooks\n\u001b[0;32m   1500\u001b[0m         \u001b[39mor\u001b[39;00m _global_forward_hooks \u001b[39mor\u001b[39;00m _global_forward_pre_hooks):\n\u001b[1;32m-> 1501\u001b[0m     \u001b[39mreturn\u001b[39;00m forward_call(\u001b[39m*\u001b[39margs, \u001b[39m*\u001b[39m\u001b[39m*\u001b[39mkwargs)\n\u001b[0;32m   1502\u001b[0m \u001b[39m# Do not call functions when jit is used\u001b[39;00m\n\u001b[0;32m   1503\u001b[0m full_backward_hooks, non_full_backward_hooks \u001b[39m=\u001b[39m [], []\n",
      "\u001b[1;31mTypeError\u001b[0m: forward() missing 1 required positional argument: 'input'"
     ]
    }
   ],
   "source": [
    "get_dropmodel(nbks=(4,3,3,2,1), drop=0.1)"
   ]
  },
  {
   "cell_type": "code",
   "execution_count": null,
   "metadata": {},
   "outputs": [],
   "source": []
  }
 ],
 "metadata": {
  "kernelspec": {
   "display_name": "Python 3 (ipykernel)",
   "language": "python",
   "name": "python3"
  },
  "language_info": {
   "codemirror_mode": {
    "name": "ipython",
    "version": 3
   },
   "file_extension": ".py",
   "mimetype": "text/x-python",
   "name": "python",
   "nbconvert_exporter": "python",
   "pygments_lexer": "ipython3",
   "version": "3.9.12"
  }
 },
 "nbformat": 4,
 "nbformat_minor": 4
}
