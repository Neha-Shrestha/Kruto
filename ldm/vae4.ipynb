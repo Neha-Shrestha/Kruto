{
 "cells": [
  {
   "cell_type": "code",
   "execution_count": 1,
   "metadata": {},
   "outputs": [],
   "source": [
    "import torch\n",
    "import torch.nn.functional as F\n",
    "from torch import nn\n",
    "import torchvision\n",
    "from torchvision import transforms\n",
    "\n",
    "from utils import *\n",
    "from learner import *"
   ]
  },
  {
   "cell_type": "code",
   "execution_count": 2,
   "metadata": {},
   "outputs": [],
   "source": [
    "BATCH_SIZE = 64\n",
    "device = \"cuda\" if torch.cuda.is_available() else \"cpu\""
   ]
  },
  {
   "cell_type": "code",
   "execution_count": 3,
   "metadata": {},
   "outputs": [],
   "source": [
    "def lin(ic, oc, act=nn.ReLU):\n",
    "    layers = nn.Sequential(nn.Linear(ic, oc))\n",
    "    if act: layers.append(act())\n",
    "    return layers"
   ]
  },
  {
   "cell_type": "code",
   "execution_count": 4,
   "metadata": {},
   "outputs": [],
   "source": [
    "class VAE(nn.Module):\n",
    "    def __init__(self, ic, hc, lc):\n",
    "        super().__init__()\n",
    "        self.encoder = nn.Sequential(lin(ic, hc), lin(hc, hc))\n",
    "        self.mu, self.lv = lin(hc, lc, act=None), lin(hc, lc, act=None)\n",
    "        self.decoder = nn.Sequential(lin(lc, hc), lin(hc,hc), lin(hc, ic, act=None), nn.Sigmoid())\n",
    "    \n",
    "    def forward(self, x):\n",
    "        x = self.encoder(x)\n",
    "        mu, lv = self.mu(x), self.lv(x)\n",
    "        ep = torch.randn_like(lv)\n",
    "        z = mu + ((0.5*lv).exp() * ep)\n",
    "        return self.decoder(z), mu, lv\n"
   ]
  },
  {
   "cell_type": "code",
   "execution_count": 5,
   "metadata": {},
   "outputs": [],
   "source": [
    "def loss_fn(X_new, X, mu, lv):\n",
    "    return F.binary_cross_entropy(X_new, X, reduction=\"sum\") + (-0.5 * torch.sum(1 + lv - mu.pow(2) - lv.exp()))"
   ]
  },
  {
   "cell_type": "code",
   "execution_count": 6,
   "metadata": {},
   "outputs": [],
   "source": [
    "transform = transforms.Compose([transforms.ToTensor()])\n",
    "train_dataset = torchvision.datasets.MNIST(root='./data', train=True, download=True, transform=transform)\n",
    "test_dataset = torchvision.datasets.MNIST(root='./data', train=False, download=True, transform=transform)\n",
    "\n",
    "train_dataloader, test_dataloader, class_names = dataloader(train_dataset, test_dataset, BATCH_SIZE)"
   ]
  },
  {
   "cell_type": "code",
   "execution_count": 7,
   "metadata": {},
   "outputs": [],
   "source": [
    "import matplotlib.pyplot as plt\n",
    "import numpy as np\n",
    "\n",
    "def plot_reconstructions(model, data, num_samples=10):\n",
    "    with torch.inference_mode():\n",
    "        recon_batch, _, _ = model(data.reshape(-1, 784))\n",
    "        recon_batch = recon_batch.cpu()\n",
    "\n",
    "    # Plot original images\n",
    "    plt.figure(figsize=(15, 6))\n",
    "    for i in range(num_samples):\n",
    "        plt.subplot(2, num_samples, i + 1)\n",
    "        plt.imshow(data[i].cpu().view(28, 28).numpy(), cmap='gray')\n",
    "        plt.title('Original')\n",
    "        plt.axis('off')\n",
    "\n",
    "    # Plot reconstructed images\n",
    "    for i in range(num_samples):\n",
    "        plt.subplot(2, num_samples, i + num_samples + 1)\n",
    "        plt.imshow(recon_batch[i].view(28, 28).numpy(), cmap='gray')\n",
    "        plt.title('New')\n",
    "        plt.axis('off')\n",
    "\n",
    "    plt.show()\n"
   ]
  },
  {
   "cell_type": "code",
   "execution_count": 8,
   "metadata": {},
   "outputs": [],
   "source": [
    "ic, hc, lc = 784, 400, 20\n",
    "lr = 1e-3\n",
    "vae = VAE(ic, hc, lc)\n",
    "optimizer = torch.optim.Adam(vae.parameters(), lr=lr)"
   ]
  },
  {
   "cell_type": "code",
   "execution_count": 9,
   "metadata": {},
   "outputs": [],
   "source": [
    "def train(model, epochs):\n",
    "    model.to(device)\n",
    "    # schedular = torch.optim.lr_scheduler.OneCycleLR(optimizer, max_lr=lr, total_steps=epochs*len(train_dataloader))\n",
    "\n",
    "    for epoch in trange(epochs):\n",
    "        model.train()\n",
    "        train_loss = 0\n",
    "        for X, _ in train_dataloader:\n",
    "            X = X.to(device).view(-1, 784)\n",
    "            X_new, mu, lv = model(X)\n",
    "            loss = loss_fn(X_new, X, mu, lv)\n",
    "            train_loss += loss\n",
    "            optimizer.zero_grad()\n",
    "            loss.backward()\n",
    "            optimizer.step()\n",
    "\n",
    "        print(f\"Epoch: {epoch}\\tLoss: {train_loss / len(train_dataloader.dataset)}\")\n",
    "        # schedular.step()"
   ]
  },
  {
   "cell_type": "code",
   "execution_count": 10,
   "metadata": {},
   "outputs": [],
   "source": [
    "data, _ = next(iter(test_dataloader))"
   ]
  },
  {
   "cell_type": "code",
   "execution_count": 11,
   "metadata": {},
   "outputs": [
    {
     "data": {
      "application/vnd.jupyter.widget-view+json": {
       "model_id": "81fe313735c14db399e5ad43a9b893c9",
       "version_major": 2,
       "version_minor": 0
      },
      "text/plain": [
       "  0%|          | 0/10 [00:00<?, ?it/s]"
      ]
     },
     "metadata": {},
     "output_type": "display_data"
    },
    {
     "name": "stdout",
     "output_type": "stream",
     "text": [
      "Epoch: 0\tLoss: 159.81996154785156\n",
      "Epoch: 1\tLoss: 122.69841766357422\n",
      "Epoch: 2\tLoss: 114.31310272216797\n",
      "Epoch: 3\tLoss: 110.0690689086914\n",
      "Epoch: 4\tLoss: 107.6080322265625\n",
      "Epoch: 5\tLoss: 106.05316925048828\n",
      "Epoch: 6\tLoss: 104.96757507324219\n",
      "Epoch: 7\tLoss: 104.05165100097656\n",
      "Epoch: 8\tLoss: 103.34119415283203\n",
      "Epoch: 9\tLoss: 102.78547668457031\n"
     ]
    },
    {
     "data": {
      "image/png": "[encoded data removed]",
      "text/plain": [
       "<Figure size 1500x600 with 20 Axes>"
      ]
     },
     "metadata": {},
     "output_type": "display_data"
    }
   ],
   "source": [
    "train(vae, 10)\n",
    "plot_reconstructions(vae, data.to(device))"
   ]
  },
  {
   "cell_type": "code",
   "execution_count": null,
   "metadata": {},
   "outputs": [],
   "source": []
  }
 ],
 "metadata": {
  "kernelspec": {
   "display_name": "pytorch",
   "language": "python",
   "name": "python3"
  },
  "language_info": {
   "codemirror_mode": {
    "name": "ipython",
    "version": 3
   },
   "file_extension": ".py",
   "mimetype": "text/x-python",
   "name": "python",
   "nbconvert_exporter": "python",
   "pygments_lexer": "ipython3",
   "version": "3.9.12"
  }
 },
 "nbformat": 4,
 "nbformat_minor": 2
}
