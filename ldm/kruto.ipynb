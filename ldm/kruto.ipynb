{
 "cells": [
  {
   "cell_type": "code",
   "execution_count": 1,
   "metadata": {},
   "outputs": [],
   "source": [
    "import torch\n",
    "device = \"cuda\" if torch.cuda.is_available() else \"cpu\""
   ]
  },
  {
   "cell_type": "code",
   "execution_count": 2,
   "metadata": {},
   "outputs": [],
   "source": [
    "beta_min = 0.0001\n",
    "beta_max = 0.2\n",
    "n_steps = 1000\n",
    "beta = torch.linspace(beta_min, beta_max, n_steps)\n",
    "alpha = (1 - beta).to(device)\n",
    "alpha_bar = alpha.cumprod(dim=0).to(device)\n",
    "sigma = beta.sqrt().to(device)"
   ]
  },
  {
   "cell_type": "code",
   "execution_count": 3,
   "metadata": {},
   "outputs": [],
   "source": [
    "def noise_image(x):\n",
    "    device = x.device\n",
    "    noise = torch.randn_like(x).to(device)\n",
    "    t = torch.randint(0, 1000, (len(x),), dtype=torch.long, device=device)\n",
    "    ab_t = alpha_bar[t].reshape(-1, 1, 1, 1) \n",
    "    xt = (ab_t.sqrt()*x) + ((1 - ab_t).sqrt()*noise)\n",
    "    return xt, t, noise"
   ]
  },
  {
   "cell_type": "code",
   "execution_count": 4,
   "metadata": {},
   "outputs": [],
   "source": [
    "@torch.inference_mode()\n",
    "def ddpm_sample(model, sz, c):\n",
    "    xt = torch.randn(sz).to(device)\n",
    "    c = c.to(device)\n",
    "    preds = []\n",
    "    for i in reversed(range(n_steps)):\n",
    "        t = torch.full((xt.shape[0], ), i, dtype=torch.long, device=device)\n",
    "        pred_noise = model(xt, t, c)\n",
    "        a_t = alpha[t][:, None, None, None]\n",
    "        ab_t = alpha_bar[t][:, None, None, None]\n",
    "        s_t = sigma[t][:, None, None, None]\n",
    "        z = (torch.randn_like(xt) if i > 0 else torch.zeros_like(xt)).to(device)\n",
    "        xt_1 = (1/a_t.sqrt())*(xt - (((1-a_t)/(1-ab_t).sqrt())*pred_noise)) + (s_t*z)\n",
    "        xt = xt_1\n",
    "        preds.append(xt)\n",
    "    return xt, preds"
   ]
  },
  {
   "cell_type": "code",
   "execution_count": 5,
   "metadata": {},
   "outputs": [],
   "source": [
    "import torch\n",
    "from torch import nn\n",
    "from torchvision import transforms\n",
    "from pathlib import Path\n",
    "\n",
    "from dataset import *\n",
    "from data_preprocessing import *\n",
    "from utils import *\n",
    "from diffusers.models import AutoencoderKL\n",
    "from unet import *\n",
    "from attention import *\n",
    "from time_embedding import *\n",
    "from ddpm import *"
   ]
  },
  {
   "cell_type": "code",
   "execution_count": 6,
   "metadata": {},
   "outputs": [],
   "source": [
    "batch_size = 20\n",
    "device = \"cuda\" if torch.cuda.is_available() else \"cpu\""
   ]
  },
  {
   "cell_type": "code",
   "execution_count": 7,
   "metadata": {},
   "outputs": [],
   "source": [
    "# unet = UNET(n_classes=2, in_channels=4, out_channels=4, channels=(128, 256, 512, 768), attn_channs=16).to(device)\n",
    "unet = UNET(n_classes=2, in_channels=4, out_channels=4, channels=(32,64,128,256)).to(device)"
   ]
  },
  {
   "cell_type": "code",
   "execution_count": 4,
   "metadata": {},
   "outputs": [],
   "source": [
    "torch.cuda.empty_cache()"
   ]
  },
  {
   "cell_type": "code",
   "execution_count": 8,
   "metadata": {},
   "outputs": [],
   "source": [
    "ddpm = DDPM(0.0001, 0.02, 1000, device)"
   ]
  },
  {
   "cell_type": "code",
   "execution_count": 8,
   "metadata": {},
   "outputs": [],
   "source": [
    "vae = AutoencoderKL.from_pretrained(\"stabilityai/sd-vae-ft-ema\").to(device).requires_grad_(False)\n"
   ]
  },
  {
   "cell_type": "code",
   "execution_count": 9,
   "metadata": {},
   "outputs": [],
   "source": [
    "train_data_folder = \"./data/256/\"\n",
    "train_latent_folder = Path(\"./data/latents256/\")\n",
    "test_data_folder = \"./data/256test/\"\n",
    "test_latent_folder = Path(\"./data/latents256test/\")\n"
   ]
  },
  {
   "cell_type": "code",
   "execution_count": null,
   "metadata": {},
   "outputs": [],
   "source": [
    "# train_data_folder = \"./data/Linnaeus 5/256x256/train\"\n",
    "# train_latent_folder = Path(\"./data/Linnaeus 5/32x32/train\")\n",
    "# test_data_folder = \"./data/Linnaeus 5/256x256/test\"\n",
    "# test_latent_folder = Path(\"./data/Linnaeus 5/32x32/test/\")"
   ]
  },
  {
   "cell_type": "code",
   "execution_count": null,
   "metadata": {},
   "outputs": [],
   "source": [
    "def init_weights(m):\n",
    "    if isinstance(m, nn.Conv2d): nn.init.kaiming_normal_(m.weight, a=0.1)\n",
    "unet.apply(init_weights);"
   ]
  },
  {
   "cell_type": "code",
   "execution_count": null,
   "metadata": {},
   "outputs": [],
   "source": [
    "transform = transforms.Compose([\n",
    "                transforms.ToTensor(), \n",
    "                transforms.RandomHorizontalFlip(p=0.5),\n",
    "                transforms.Normalize(mean=[0.485, 0.456, 0.406], std=[0.229, 0.224, 0.225]),\n",
    "                transforms.Lambda(lambda x: x.float())\n",
    "            ])"
   ]
  },
  {
   "cell_type": "code",
   "execution_count": null,
   "metadata": {},
   "outputs": [],
   "source": [
    "data_to_latents(model=vae, \n",
    "                  data_folder=train_data_folder, \n",
    "                  latent_folder=train_latent_folder, \n",
    "                  transform=transform, \n",
    "                  batch_size=5, \n",
    "                  shuffle=True\n",
    "               )"
   ]
  },
  {
   "cell_type": "code",
   "execution_count": null,
   "metadata": {},
   "outputs": [],
   "source": [
    "data_to_latents(model=vae, \n",
    "                  data_folder=test_data_folder, \n",
    "                  latent_folder=test_latent_folder, \n",
    "                  transform=transform, \n",
    "                  batch_size=5, \n",
    "                  shuffle=False\n",
    "               )"
   ]
  },
  {
   "cell_type": "code",
   "execution_count": null,
   "metadata": {},
   "outputs": [],
   "source": [
    "latent_transform = transforms.Compose([\n",
    "                transforms.ToTensor(),\n",
    "                transforms.Normalize(mean=[-1.2638,  0.7728,  0.6195, -0.9007], std=[6.1378, 7.1625, 4.4116, 5.5606]),\n",
    "                # transforms.Lambda(lambda x: x.float())\n",
    "            ])\n"
   ]
  },
  {
   "cell_type": "code",
   "execution_count": 10,
   "metadata": {},
   "outputs": [],
   "source": [
    "train_latent_dl = latent_dataloader(latent_folder=train_latent_folder, \n",
    "                                    latent_transform=None, \n",
    "                                    batch_size=20, \n",
    "                                    shuffle=True\n",
    "                                )\n",
    "\n",
    "test_latent_dl = latent_dataloader(latent_folder=test_latent_folder, \n",
    "                                    latent_transform=None, \n",
    "                                    batch_size=5, \n",
    "                                    shuffle=False\n",
    "                                )"
   ]
  },
  {
   "cell_type": "code",
   "execution_count": 14,
   "metadata": {},
   "outputs": [
    {
     "name": "stdout",
     "output_type": "stream",
     "text": [
      "torch.Size([20, 4, 32, 32])\n"
     ]
    },
    {
     "data": {
      "image/png": "[encoded data removed]",
      "text/plain": [
       "<Figure size 1000x1000 with 1 Axes>"
      ]
     },
     "metadata": {},
     "output_type": "display_data"
    },
    {
     "data": {
      "image/png": "[encoded data removed]",
      "text/plain": [
       "<Figure size 1000x1000 with 1 Axes>"
      ]
     },
     "metadata": {},
     "output_type": "display_data"
    }
   ],
   "source": [
    "for X, y in train_latent_dl:\n",
    "    X, y = X.to(device), y.to(device)\n",
    "    print(X.shape)\n",
    "#     print(X)\n",
    "#     print(y)\n",
    "#     print(X.mean((0, 2, 3)))\n",
    "#     print(X.std((0, 2, 3)))\n",
    "    show_images_grid(X)\n",
    "    xt, t, noise = noise_image(X)\n",
    "    # pred = unet(xt, t, y)\n",
    "    show_images_grid(xt)\n",
    "    break"
   ]
  },
  {
   "cell_type": "code",
   "execution_count": 12,
   "metadata": {},
   "outputs": [
    {
     "name": "stdout",
     "output_type": "stream",
     "text": [
      "torch.Size([20, 4, 32, 32])\n",
      "torch.Size([20])\n",
      "torch.Size([20, 4, 32, 32])\n",
      "torch.Size([20])\n",
      "torch.Size([20, 4, 32, 32])\n",
      "torch.Size([20])\n",
      "torch.Size([20, 4, 32, 32])\n",
      "torch.Size([20])\n",
      "torch.Size([20, 4, 32, 32])\n",
      "torch.Size([20])\n",
      "torch.Size([20, 4, 32, 32])\n",
      "torch.Size([20])\n",
      "torch.Size([20, 4, 32, 32])\n",
      "torch.Size([20])\n",
      "torch.Size([20, 4, 32, 32])\n",
      "torch.Size([20])\n",
      "torch.Size([20, 4, 32, 32])\n",
      "torch.Size([20])\n",
      "torch.Size([20, 4, 32, 32])\n",
      "torch.Size([20])\n"
     ]
    }
   ],
   "source": [
    "for X, y in train_latent_dl:\n",
    "    X, y = X.to(device), y.to(device)\n",
    "    print(X.shape)\n",
    "    print(y.shape)"
   ]
  },
  {
   "cell_type": "code",
   "execution_count": 11,
   "metadata": {},
   "outputs": [],
   "source": [
    "lr = 1e-3\n",
    "epochs = 300\n",
    "loss_fn = nn.MSELoss()\n",
    "optimizer = torch.optim.Adam(unet.parameters(), lr=lr)\n",
    "schedular = torch.optim.lr_scheduler.OneCycleLR(optimizer, max_lr=lr, total_steps=epochs*len(train_latent_dl))"
   ]
  },
  {
   "cell_type": "code",
   "execution_count": 12,
   "metadata": {},
   "outputs": [],
   "source": [
    "from IPython.display import display\n",
    "from tqdm.notebook import trange\n",
    "\n",
    "train_losses = []\n",
    "test_losses = []\n",
    "\n",
    "def train(model, epochs=None):\n",
    "    model.to(device)\n",
    "    progress_bar = trange(epochs, desc=\"Progress\")\n",
    "    display(progress_bar)\n",
    "    for epoch in progress_bar:\n",
    "        model.train()\n",
    "        total_loss = 0\n",
    "        for X, y in train_latent_dl:\n",
    "            X, y = X.to(device), y.to(device)\n",
    "            xt, t, noise = noise_image(X)\n",
    "            pred = model(xt, t, y)\n",
    "            loss = loss_fn(pred, noise)\n",
    "            total_loss += loss.item()\n",
    "            optimizer.zero_grad()\n",
    "            loss.backward()\n",
    "            optimizer.step()\n",
    "        schedular.step()\n",
    "        current_epoch = epoch+1\n",
    "\n",
    "        model.eval()\n",
    "        with torch.no_grad():\n",
    "            total_val_loss = 0\n",
    "            for val_X, val_y in test_latent_dl:\n",
    "                val_X, val_y = val_X.to(device), val_y.to(device)\n",
    "                val_xt, val_t, val_noise = noise_image(val_X)\n",
    "                val_pred = model(val_xt, val_t, val_y)\n",
    "                val_loss = loss_fn(val_pred, val_noise)\n",
    "                total_val_loss += val_loss.item()\n",
    "\n",
    "        total_loss /= len(train_latent_dl)\n",
    "        total_val_loss /= len(test_latent_dl)\n",
    "        train_losses.append(total_loss)\n",
    "        test_losses.append(total_val_loss)\n",
    "        if epoch % 10 == 0:\n",
    "            torch.save(model.state_dict(), f\"./Saved Models/unet_{current_epoch}.pth\")\n",
    "        print(f\"Epoch: {current_epoch} - Loss: {total_loss} | Val Loss: {total_val_loss}\")"
   ]
  },
  {
   "cell_type": "code",
   "execution_count": 13,
   "metadata": {},
   "outputs": [
    {
     "data": {
      "application/vnd.jupyter.widget-view+json": {
       "model_id": "206afd0cf49f4b22b31579a15da37393",
       "version_major": 2,
       "version_minor": 0
      },
      "text/plain": [
       "Progress:   0%|          | 0/300 [00:00<?, ?it/s]"
      ]
     },
     "metadata": {},
     "output_type": "display_data"
    },
    {
     "data": {
      "text/plain": [
       "<tqdm.notebook.tqdm_notebook at 0x1307cf5b340>"
      ]
     },
     "metadata": {},
     "output_type": "display_data"
    },
    {
     "name": "stdout",
     "output_type": "stream",
     "text": [
      "Epoch: 1 - Loss: 1.0919263243675232 | Val Loss: 0.9987098500132561\n",
      "Epoch: 2 - Loss: 1.0553529739379883 | Val Loss: 0.9947087317705154\n",
      "Epoch: 3 - Loss: 1.0205389499664306 | Val Loss: 0.9966008588671684\n",
      "Epoch: 4 - Loss: 0.9984997153282166 | Val Loss: 0.9779921844601631\n",
      "Epoch: 5 - Loss: 0.9783146440982818 | Val Loss: 0.9515188038349152\n",
      "Epoch: 6 - Loss: 0.9565954089164734 | Val Loss: 0.9697158336639404\n",
      "Epoch: 7 - Loss: 0.9286045253276825 | Val Loss: 0.9279560297727585\n",
      "Epoch: 8 - Loss: 0.9084106802940368 | Val Loss: 0.9039981737732887\n",
      "Epoch: 9 - Loss: 0.8897341966629029 | Val Loss: 0.9007971435785294\n",
      "Epoch: 10 - Loss: 0.8651586055755616 | Val Loss: 0.8623977601528168\n",
      "Epoch: 11 - Loss: 0.8529195487499237 | Val Loss: 0.8470616117119789\n",
      "Epoch: 12 - Loss: 0.8168978750705719 | Val Loss: 0.7881145849823952\n",
      "Epoch: 13 - Loss: 0.797253555059433 | Val Loss: 0.8154687285423279\n",
      "Epoch: 14 - Loss: 0.788989531993866 | Val Loss: 0.8554254099726677\n",
      "Epoch: 15 - Loss: 0.7485550880432129 | Val Loss: 0.8112182468175888\n",
      "Epoch: 16 - Loss: 0.7005239486694336 | Val Loss: 0.7761476561427116\n",
      "Epoch: 17 - Loss: 0.7180886507034302 | Val Loss: 0.7548190802335739\n",
      "Epoch: 18 - Loss: 0.7149725794792176 | Val Loss: 0.6471270695328712\n",
      "Epoch: 19 - Loss: 0.6786030828952789 | Val Loss: 0.7040307745337486\n",
      "Epoch: 20 - Loss: 0.686524361371994 | Val Loss: 0.6566977277398109\n",
      "Epoch: 21 - Loss: 0.6556562632322311 | Val Loss: 0.6806260570883751\n",
      "Epoch: 22 - Loss: 0.6061871469020843 | Val Loss: 0.5764081627130508\n",
      "Epoch: 23 - Loss: 0.6001021683216095 | Val Loss: 0.6579074189066887\n",
      "Epoch: 24 - Loss: 0.5941320419311523 | Val Loss: 0.6661203801631927\n",
      "Epoch: 25 - Loss: 0.5825459212064743 | Val Loss: 0.5950381420552731\n",
      "Epoch: 26 - Loss: 0.582444566488266 | Val Loss: 0.521634254604578\n",
      "Epoch: 27 - Loss: 0.5399501830339432 | Val Loss: 0.5904586650431156\n",
      "Epoch: 28 - Loss: 0.5480580985546112 | Val Loss: 0.5215619914233685\n",
      "Epoch: 29 - Loss: 0.5078916549682617 | Val Loss: 0.5191923938691616\n",
      "Epoch: 30 - Loss: 0.483586448431015 | Val Loss: 0.4970477223396301\n",
      "Epoch: 31 - Loss: 0.4958739072084427 | Val Loss: 0.5180275104939938\n",
      "Epoch: 32 - Loss: 0.5019822120666504 | Val Loss: 0.5103728398680687\n",
      "Epoch: 33 - Loss: 0.5077070236206055 | Val Loss: 0.40999432280659676\n",
      "Epoch: 34 - Loss: 0.4243254154920578 | Val Loss: 0.375344205647707\n",
      "Epoch: 35 - Loss: 0.4603052198886871 | Val Loss: 0.370266105979681\n",
      "Epoch: 36 - Loss: 0.4186326116323471 | Val Loss: 0.41301948949694633\n",
      "Epoch: 37 - Loss: 0.41141410171985626 | Val Loss: 0.43422015756368637\n",
      "Epoch: 38 - Loss: 0.40388587713241575 | Val Loss: 0.3425195850431919\n",
      "Epoch: 39 - Loss: 0.45464796125888823 | Val Loss: 0.3492615222930908\n",
      "Epoch: 40 - Loss: 0.425990691781044 | Val Loss: 0.3679394759237766\n",
      "Epoch: 41 - Loss: 0.3844976007938385 | Val Loss: 0.37756381556391716\n",
      "Epoch: 42 - Loss: 0.3927216738462448 | Val Loss: 0.40827441588044167\n",
      "Epoch: 43 - Loss: 0.3677187204360962 | Val Loss: 0.32336317747831345\n",
      "Epoch: 44 - Loss: 0.3330558866262436 | Val Loss: 0.3160837423056364\n",
      "Epoch: 45 - Loss: 0.37650924623012544 | Val Loss: 0.32500287517905235\n",
      "Epoch: 46 - Loss: 0.3592826783657074 | Val Loss: 0.3456360846757889\n",
      "Epoch: 47 - Loss: 0.31982419490814207 | Val Loss: 0.4093558844178915\n",
      "Epoch: 48 - Loss: 0.3280558049678802 | Val Loss: 0.30163288675248623\n",
      "Epoch: 49 - Loss: 0.3080219835042953 | Val Loss: 0.40498214215040207\n",
      "Epoch: 50 - Loss: 0.3466748774051666 | Val Loss: 0.3623208496719599\n",
      "Epoch: 51 - Loss: 0.33900648802518846 | Val Loss: 0.30722316913306713\n",
      "Epoch: 52 - Loss: 0.32108239084482193 | Val Loss: 0.25047595612704754\n",
      "Epoch: 53 - Loss: 0.32779232412576675 | Val Loss: 0.42920098826289177\n",
      "Epoch: 54 - Loss: 0.3230182588100433 | Val Loss: 0.2530090659856796\n",
      "Epoch: 55 - Loss: 0.3036359861493111 | Val Loss: 0.34110942482948303\n",
      "Epoch: 56 - Loss: 0.2698832809925079 | Val Loss: 0.2627973537892103\n",
      "Epoch: 57 - Loss: 0.27168742567300797 | Val Loss: 0.19110740721225739\n",
      "Epoch: 58 - Loss: 0.2614635467529297 | Val Loss: 0.20233647525310516\n",
      "Epoch: 59 - Loss: 0.2750777468085289 | Val Loss: 0.23662897571921349\n",
      "Epoch: 60 - Loss: 0.29657192081212996 | Val Loss: 0.2470062943175435\n",
      "Epoch: 61 - Loss: 0.2945722371339798 | Val Loss: 0.25865477975457907\n",
      "Epoch: 62 - Loss: 0.2926872193813324 | Val Loss: 0.2165577495470643\n",
      "Epoch: 63 - Loss: 0.27330109626054766 | Val Loss: 0.26741116400808096\n",
      "Epoch: 64 - Loss: 0.24885402172803878 | Val Loss: 0.18275744281709194\n",
      "Epoch: 65 - Loss: 0.23718116730451583 | Val Loss: 0.2763118017464876\n",
      "Epoch: 66 - Loss: 0.25471401363611224 | Val Loss: 0.2723824009299278\n",
      "Epoch: 67 - Loss: 0.24734044969081878 | Val Loss: 0.2740797773003578\n",
      "Epoch: 68 - Loss: 0.26894074231386184 | Val Loss: 0.1860933182761073\n",
      "Epoch: 69 - Loss: 0.28941190987825394 | Val Loss: 0.2552335849031806\n",
      "Epoch: 70 - Loss: 0.24126638770103453 | Val Loss: 0.1896857237443328\n",
      "Epoch: 71 - Loss: 0.24232376217842103 | Val Loss: 0.29161933064460754\n",
      "Epoch: 72 - Loss: 0.2512422800064087 | Val Loss: 0.26288710348308086\n",
      "Epoch: 73 - Loss: 0.26885692626237867 | Val Loss: 0.29909055307507515\n",
      "Epoch: 74 - Loss: 0.23186815530061722 | Val Loss: 0.1083306884393096\n",
      "Epoch: 75 - Loss: 0.23897272646427153 | Val Loss: 0.20014201756566763\n",
      "Epoch: 76 - Loss: 0.2170802354812622 | Val Loss: 0.25930385384708643\n",
      "Epoch: 77 - Loss: 0.26679127514362333 | Val Loss: 0.26061563938856125\n",
      "Epoch: 78 - Loss: 0.24993377774953843 | Val Loss: 0.18113659974187613\n",
      "Epoch: 79 - Loss: 0.22935854643583298 | Val Loss: 0.1861281916499138\n",
      "Epoch: 80 - Loss: 0.22830456793308257 | Val Loss: 0.3378478121012449\n",
      "Epoch: 81 - Loss: 0.23026908189058304 | Val Loss: 0.25158576015383005\n",
      "Epoch: 82 - Loss: 0.2004971981048584 | Val Loss: 0.22325948346406221\n",
      "Epoch: 83 - Loss: 0.2799569174647331 | Val Loss: 0.23258958104997873\n",
      "Epoch: 84 - Loss: 0.22003663182258607 | Val Loss: 0.27025031112134457\n",
      "Epoch: 85 - Loss: 0.2679061472415924 | Val Loss: 0.33313080109655857\n",
      "Epoch: 86 - Loss: 0.26666209250688555 | Val Loss: 0.24549790658056736\n",
      "Epoch: 87 - Loss: 0.23390433341264724 | Val Loss: 0.21096483059227467\n",
      "Epoch: 88 - Loss: 0.23393618911504746 | Val Loss: 0.23198129050433636\n",
      "Epoch: 89 - Loss: 0.2524828270077705 | Val Loss: 0.27263352647423744\n",
      "Epoch: 90 - Loss: 0.2645315945148468 | Val Loss: 0.23639209289103746\n",
      "Epoch: 91 - Loss: 0.24578546583652497 | Val Loss: 0.16016003489494324\n",
      "Epoch: 92 - Loss: 0.21993338465690612 | Val Loss: 0.285202544182539\n",
      "Epoch: 93 - Loss: 0.25226908922195435 | Val Loss: 0.2349747009575367\n",
      "Epoch: 94 - Loss: 0.23815424591302872 | Val Loss: 0.30050414241850376\n",
      "Epoch: 95 - Loss: 0.24643501341342927 | Val Loss: 0.1915553556755185\n",
      "Epoch: 96 - Loss: 0.2089159145951271 | Val Loss: 0.15641533955931664\n",
      "Epoch: 97 - Loss: 0.21664343327283858 | Val Loss: 0.24975332524627447\n",
      "Epoch: 98 - Loss: 0.23816170245409013 | Val Loss: 0.23869272507727146\n",
      "Epoch: 99 - Loss: 0.20668980330228806 | Val Loss: 0.14851818326860666\n",
      "Epoch: 100 - Loss: 0.25370666533708575 | Val Loss: 0.24305264838039875\n",
      "Epoch: 101 - Loss: 0.20242348462343215 | Val Loss: 0.24820246687158942\n",
      "Epoch: 102 - Loss: 0.19898622035980223 | Val Loss: 0.22866198373958468\n",
      "Epoch: 103 - Loss: 0.22980873435735702 | Val Loss: 0.17341830022633076\n",
      "Epoch: 104 - Loss: 0.21708705127239228 | Val Loss: 0.18834600737318397\n",
      "Epoch: 105 - Loss: 0.21718266904354094 | Val Loss: 0.17847471311688423\n",
      "Epoch: 106 - Loss: 0.25307649523019793 | Val Loss: 0.19071414973586798\n",
      "Epoch: 107 - Loss: 0.22523286789655686 | Val Loss: 0.15151068987324834\n",
      "Epoch: 108 - Loss: 0.21546309888362886 | Val Loss: 0.2443476151674986\n",
      "Epoch: 109 - Loss: 0.22930664271116258 | Val Loss: 0.22298046527430415\n",
      "Epoch: 110 - Loss: 0.19841908812522888 | Val Loss: 0.16228538937866688\n",
      "Epoch: 111 - Loss: 0.2024416521191597 | Val Loss: 0.15606573456898332\n",
      "Epoch: 112 - Loss: 0.19521866962313653 | Val Loss: 0.16861984366551042\n",
      "Epoch: 113 - Loss: 0.23299683332443238 | Val Loss: 0.23474214877933264\n",
      "Epoch: 114 - Loss: 0.2498286172747612 | Val Loss: 0.1796100651845336\n",
      "Epoch: 115 - Loss: 0.247823303937912 | Val Loss: 0.22709899302572012\n",
      "Epoch: 116 - Loss: 0.23874305486679076 | Val Loss: 0.16458539804443717\n",
      "Epoch: 117 - Loss: 0.2137400135397911 | Val Loss: 0.12616572342813015\n",
      "Epoch: 118 - Loss: 0.2536991648375988 | Val Loss: 0.27640916500240564\n",
      "Epoch: 119 - Loss: 0.2116520419716835 | Val Loss: 0.15798974875360727\n",
      "Epoch: 120 - Loss: 0.2416927695274353 | Val Loss: 0.23066383926197886\n",
      "Epoch: 121 - Loss: 0.2109181210398674 | Val Loss: 0.21742369886487722\n",
      "Epoch: 122 - Loss: 0.24033136591315268 | Val Loss: 0.30957068130373955\n",
      "Epoch: 123 - Loss: 0.1898893415927887 | Val Loss: 0.15641237562522292\n",
      "Epoch: 124 - Loss: 0.2085488297045231 | Val Loss: 0.2135924557223916\n",
      "Epoch: 125 - Loss: 0.211268912255764 | Val Loss: 0.16528507275506854\n",
      "Epoch: 126 - Loss: 0.20098540782928467 | Val Loss: 0.2896548477001488\n",
      "Epoch: 127 - Loss: 0.16298686414957048 | Val Loss: 0.2079680939204991\n",
      "Epoch: 128 - Loss: 0.17927996814250946 | Val Loss: 0.17925001680850983\n",
      "Epoch: 129 - Loss: 0.1891713835299015 | Val Loss: 0.1985559370368719\n",
      "Epoch: 130 - Loss: 0.27729619294404984 | Val Loss: 0.27802803460508585\n",
      "Epoch: 131 - Loss: 0.2060883790254593 | Val Loss: 0.22448078030720353\n",
      "Epoch: 132 - Loss: 0.22519441395998002 | Val Loss: 0.2475089537911117\n",
      "Epoch: 133 - Loss: 0.23289621472358704 | Val Loss: 0.1466338117606938\n",
      "Epoch: 134 - Loss: 0.21691324263811113 | Val Loss: 0.24493456538766623\n",
      "Epoch: 135 - Loss: 0.20388074666261674 | Val Loss: 0.1696278778836131\n",
      "Epoch: 136 - Loss: 0.21732131838798524 | Val Loss: 0.19187493342906237\n",
      "Epoch: 137 - Loss: 0.20871101170778275 | Val Loss: 0.22517050709575415\n",
      "Epoch: 138 - Loss: 0.19973229765892028 | Val Loss: 0.1895548915490508\n",
      "Epoch: 139 - Loss: 0.1907533213496208 | Val Loss: 0.1660256558097899\n",
      "Epoch: 140 - Loss: 0.17619723603129386 | Val Loss: 0.3074061647057533\n",
      "Epoch: 141 - Loss: 0.19448727667331694 | Val Loss: 0.1966164312325418\n",
      "Epoch: 142 - Loss: 0.26032816916704177 | Val Loss: 0.26107051502913237\n",
      "Epoch: 143 - Loss: 0.21718306392431258 | Val Loss: 0.3515359926968813\n",
      "Epoch: 144 - Loss: 0.22478582412004472 | Val Loss: 0.16567788971588016\n",
      "Epoch: 145 - Loss: 0.19581555277109147 | Val Loss: 0.13571181101724505\n",
      "Epoch: 146 - Loss: 0.2234816297888756 | Val Loss: 0.2120315581560135\n",
      "Epoch: 147 - Loss: 0.19596864581108092 | Val Loss: 0.22974381549283862\n",
      "Epoch: 148 - Loss: 0.19682984054088593 | Val Loss: 0.17397955199703574\n",
      "Epoch: 149 - Loss: 0.2004615530371666 | Val Loss: 0.20432535139843822\n",
      "Epoch: 150 - Loss: 0.18978141471743584 | Val Loss: 0.23460677219554782\n",
      "Epoch: 151 - Loss: 0.18513928204774857 | Val Loss: 0.12844409653916955\n",
      "Epoch: 152 - Loss: 0.18241724520921707 | Val Loss: 0.23096778290346265\n",
      "Epoch: 153 - Loss: 0.21971774250268936 | Val Loss: 0.1284105279482901\n",
      "Epoch: 154 - Loss: 0.18255917802453042 | Val Loss: 0.18777562770992517\n",
      "Epoch: 155 - Loss: 0.21022223457694053 | Val Loss: 0.10538397030904889\n",
      "Epoch: 156 - Loss: 0.209196262806654 | Val Loss: 0.10466867312788963\n",
      "Epoch: 157 - Loss: 0.18883399069309234 | Val Loss: 0.1269954089075327\n",
      "Epoch: 158 - Loss: 0.176565033942461 | Val Loss: 0.1932683428749442\n",
      "Epoch: 159 - Loss: 0.19963507875800132 | Val Loss: 0.15585667546838522\n",
      "Epoch: 160 - Loss: 0.19731556251645088 | Val Loss: 0.25267265271395445\n",
      "Epoch: 161 - Loss: 0.1916123166680336 | Val Loss: 0.22965076053515077\n",
      "Epoch: 162 - Loss: 0.17715524211525918 | Val Loss: 0.19527962431311607\n",
      "Epoch: 163 - Loss: 0.1870107553899288 | Val Loss: 0.16157727828249335\n",
      "Epoch: 164 - Loss: 0.21289752274751664 | Val Loss: 0.24913355568423867\n",
      "Epoch: 165 - Loss: 0.1707807697355747 | Val Loss: 0.11900094477459788\n",
      "Epoch: 166 - Loss: 0.18504382073879241 | Val Loss: 0.2259658796247095\n",
      "Epoch: 167 - Loss: 0.1993697091937065 | Val Loss: 0.16965655144304037\n",
      "Epoch: 168 - Loss: 0.1844835549592972 | Val Loss: 0.25597200728952885\n",
      "Epoch: 169 - Loss: 0.16829630434513093 | Val Loss: 0.25500450911931694\n",
      "Epoch: 170 - Loss: 0.20620036348700524 | Val Loss: 0.2221057501155883\n",
      "Epoch: 171 - Loss: 0.20428677946329116 | Val Loss: 0.2399734272621572\n",
      "Epoch: 172 - Loss: 0.1716571755707264 | Val Loss: 0.22085747169330716\n",
      "Epoch: 173 - Loss: 0.18103600442409515 | Val Loss: 0.07998904003761709\n",
      "Epoch: 174 - Loss: 0.20855144336819648 | Val Loss: 0.19004324893467128\n",
      "Epoch: 175 - Loss: 0.1680222012102604 | Val Loss: 0.24016440520063043\n",
      "Epoch: 176 - Loss: 0.21053588911890983 | Val Loss: 0.2007786352187395\n",
      "Epoch: 177 - Loss: 0.19054194092750548 | Val Loss: 0.23105265526100993\n",
      "Epoch: 178 - Loss: 0.16062261462211608 | Val Loss: 0.19776098895817995\n",
      "Epoch: 179 - Loss: 0.16431919708848 | Val Loss: 0.2417453471571207\n",
      "Epoch: 180 - Loss: 0.18564416766166686 | Val Loss: 0.22127983532845974\n",
      "Epoch: 181 - Loss: 0.20656878873705864 | Val Loss: 0.1427487898617983\n",
      "Epoch: 182 - Loss: 0.19217270463705063 | Val Loss: 0.09398514591157436\n",
      "Epoch: 183 - Loss: 0.20874298512935638 | Val Loss: 0.20385544025339186\n",
      "Epoch: 184 - Loss: 0.1938643768429756 | Val Loss: 0.11550953914411366\n",
      "Epoch: 185 - Loss: 0.21009883433580398 | Val Loss: 0.22092608246020973\n",
      "Epoch: 186 - Loss: 0.18327967524528505 | Val Loss: 0.20923935435712337\n",
      "Epoch: 187 - Loss: 0.16664308682084084 | Val Loss: 0.21959058800712228\n",
      "Epoch: 188 - Loss: 0.18424278125166893 | Val Loss: 0.1314042708836496\n",
      "Epoch: 189 - Loss: 0.22160151228308678 | Val Loss: 0.21656257892027497\n",
      "Epoch: 190 - Loss: 0.16871120408177376 | Val Loss: 0.1579432024154812\n",
      "Epoch: 191 - Loss: 0.21348119303584098 | Val Loss: 0.14252944802865386\n",
      "Epoch: 192 - Loss: 0.168373254686594 | Val Loss: 0.14828453538939357\n",
      "Epoch: 193 - Loss: 0.18336087986826896 | Val Loss: 0.25546284834854305\n",
      "Epoch: 194 - Loss: 0.21919602975249292 | Val Loss: 0.1686721588484943\n",
      "Epoch: 195 - Loss: 0.19677838832139968 | Val Loss: 0.22475132113322616\n",
      "Epoch: 196 - Loss: 0.15301713719964027 | Val Loss: 0.20069200033321977\n",
      "Epoch: 197 - Loss: 0.16583815440535546 | Val Loss: 0.1148923619184643\n",
      "Epoch: 198 - Loss: 0.16331374347209932 | Val Loss: 0.15950214094482362\n",
      "Epoch: 199 - Loss: 0.17372769936919213 | Val Loss: 0.1813920761924237\n",
      "Epoch: 200 - Loss: 0.20427274852991104 | Val Loss: 0.24562069028615952\n",
      "Epoch: 201 - Loss: 0.14877695441246033 | Val Loss: 0.21241812407970428\n",
      "Epoch: 202 - Loss: 0.1878034859895706 | Val Loss: 0.15983488992787898\n",
      "Epoch: 203 - Loss: 0.18653482645750047 | Val Loss: 0.23892164952121675\n",
      "Epoch: 204 - Loss: 0.20063306763768196 | Val Loss: 0.14703418873250484\n",
      "Epoch: 205 - Loss: 0.1453179471194744 | Val Loss: 0.08437472698278725\n",
      "Epoch: 206 - Loss: 0.22228088229894638 | Val Loss: 0.18176090461201966\n",
      "Epoch: 207 - Loss: 0.16898637712001802 | Val Loss: 0.14306501345708966\n",
      "Epoch: 208 - Loss: 0.1611737921833992 | Val Loss: 0.11611326457932591\n",
      "Epoch: 209 - Loss: 0.19926658347249032 | Val Loss: 0.22133584693074226\n",
      "Epoch: 210 - Loss: 0.18107629865407943 | Val Loss: 0.20464845467358828\n",
      "Epoch: 211 - Loss: 0.1540268763899803 | Val Loss: 0.28524074889719486\n",
      "Epoch: 212 - Loss: 0.16035729572176932 | Val Loss: 0.23968190932646394\n",
      "Epoch: 213 - Loss: 0.18652186691761016 | Val Loss: 0.22723983670584857\n",
      "Epoch: 214 - Loss: 0.13617391288280487 | Val Loss: 0.16890275187324733\n",
      "Epoch: 215 - Loss: 0.18453316241502762 | Val Loss: 0.17972649820148945\n",
      "Epoch: 216 - Loss: 0.16914404630661012 | Val Loss: 0.19119255593977869\n",
      "Epoch: 217 - Loss: 0.19531342685222625 | Val Loss: 0.15676195838022977\n",
      "Epoch: 218 - Loss: 0.1807401157915592 | Val Loss: 0.12825716938823462\n",
      "Epoch: 219 - Loss: 0.17383285462856293 | Val Loss: 0.07044927484821528\n",
      "Epoch: 220 - Loss: 0.20902992486953736 | Val Loss: 0.21433505276218057\n",
      "Epoch: 221 - Loss: 0.19694460928440094 | Val Loss: 0.14486093958839774\n",
      "Epoch: 222 - Loss: 0.18000159785151482 | Val Loss: 0.153388787410222\n",
      "Epoch: 223 - Loss: 0.16298720389604568 | Val Loss: 0.14894800446927547\n",
      "Epoch: 224 - Loss: 0.19724696278572082 | Val Loss: 0.22713028430007398\n",
      "Epoch: 225 - Loss: 0.1689279742538929 | Val Loss: 0.24462211411446333\n",
      "Epoch: 226 - Loss: 0.15934566408395767 | Val Loss: 0.14263264706823975\n",
      "Epoch: 227 - Loss: 0.15927573442459106 | Val Loss: 0.25606650952249765\n",
      "Epoch: 228 - Loss: 0.14748999029397963 | Val Loss: 0.1808985755778849\n",
      "Epoch: 229 - Loss: 0.18198627531528472 | Val Loss: 0.07655743404757231\n",
      "Epoch: 230 - Loss: 0.1989638850092888 | Val Loss: 0.1862867580493912\n",
      "Epoch: 231 - Loss: 0.16215476989746094 | Val Loss: 0.1807461119024083\n",
      "Epoch: 232 - Loss: 0.1946936972439289 | Val Loss: 0.16002165828831494\n",
      "Epoch: 233 - Loss: 0.17550566643476487 | Val Loss: 0.14049227652139962\n",
      "Epoch: 234 - Loss: 0.15769316032528877 | Val Loss: 0.2302621533162892\n",
      "Epoch: 235 - Loss: 0.14315229579806327 | Val Loss: 0.11067068798001856\n",
      "Epoch: 236 - Loss: 0.20127035528421403 | Val Loss: 0.07703014044091105\n",
      "Epoch: 237 - Loss: 0.21703103110194205 | Val Loss: 0.2747310472186655\n",
      "Epoch: 238 - Loss: 0.19431076869368552 | Val Loss: 0.15949861600529402\n",
      "Epoch: 239 - Loss: 0.15808629840612412 | Val Loss: 0.17081640881951898\n",
      "Epoch: 240 - Loss: 0.160831705480814 | Val Loss: 0.16809574409853667\n",
      "Epoch: 241 - Loss: 0.18364571034908295 | Val Loss: 0.2696424014866352\n",
      "Epoch: 242 - Loss: 0.1440886490046978 | Val Loss: 0.2245673487195745\n",
      "Epoch: 243 - Loss: 0.1423436962068081 | Val Loss: 0.11626040562987328\n",
      "Epoch: 244 - Loss: 0.16883568465709686 | Val Loss: 0.21018943330273032\n",
      "Epoch: 245 - Loss: 0.19430890306830406 | Val Loss: 0.15932345227338374\n",
      "Epoch: 246 - Loss: 0.1574069894850254 | Val Loss: 0.12121609377209097\n",
      "Epoch: 247 - Loss: 0.18200530484318733 | Val Loss: 0.11450521519873291\n",
      "Epoch: 248 - Loss: 0.1520022854208946 | Val Loss: 0.1313175957184285\n",
      "Epoch: 249 - Loss: 0.1662128448486328 | Val Loss: 0.10807001241482794\n",
      "Epoch: 250 - Loss: 0.1954220674932003 | Val Loss: 0.16131821274757385\n",
      "Epoch: 251 - Loss: 0.13622701838612555 | Val Loss: 0.16870162927079946\n",
      "Epoch: 252 - Loss: 0.16746639534831048 | Val Loss: 0.20225237333215773\n",
      "Epoch: 253 - Loss: 0.1806603789329529 | Val Loss: 0.10203920281492174\n",
      "Epoch: 254 - Loss: 0.1785071760416031 | Val Loss: 0.19273930182680488\n",
      "Epoch: 255 - Loss: 0.1701655223965645 | Val Loss: 0.08779443835373968\n",
      "Epoch: 256 - Loss: 0.16887415945529938 | Val Loss: 0.09792287973687053\n",
      "Epoch: 257 - Loss: 0.19848842397332192 | Val Loss: 0.1316256490536034\n",
      "Epoch: 258 - Loss: 0.14530271142721177 | Val Loss: 0.35363044950645417\n",
      "Epoch: 259 - Loss: 0.15968429446220397 | Val Loss: 0.16773463448043913\n",
      "Epoch: 260 - Loss: 0.16063099950551987 | Val Loss: 0.14544348884373903\n",
      "Epoch: 261 - Loss: 0.13922788724303245 | Val Loss: 0.3296177840093151\n",
      "Epoch: 262 - Loss: 0.16238221526145935 | Val Loss: 0.30412182211875916\n",
      "Epoch: 263 - Loss: 0.17724745497107505 | Val Loss: 0.12953498435672373\n",
      "Epoch: 264 - Loss: 0.20540133342146874 | Val Loss: 0.10465749353170395\n",
      "Epoch: 265 - Loss: 0.1820535145699978 | Val Loss: 3.365302951191552\n",
      "Epoch: 266 - Loss: 0.1295056961476803 | Val Loss: 1.3097251538420096\n",
      "Epoch: 267 - Loss: 0.16172232180833818 | Val Loss: 0.18790214124601334\n",
      "Epoch: 268 - Loss: 0.159960762783885 | Val Loss: 0.06849112594500184\n",
      "Epoch: 269 - Loss: 0.17963757514953613 | Val Loss: 0.14178003638517112\n",
      "Epoch: 270 - Loss: 0.1718513272702694 | Val Loss: 0.222319807857275\n",
      "Epoch: 271 - Loss: 0.14555167220532894 | Val Loss: 0.20688267471268773\n",
      "Epoch: 272 - Loss: 0.19143102020025254 | Val Loss: 0.17387619882356375\n",
      "Epoch: 273 - Loss: 0.1651083506643772 | Val Loss: 0.14398233010433614\n",
      "Epoch: 274 - Loss: 0.1499734714627266 | Val Loss: 0.17977416957728565\n",
      "Epoch: 275 - Loss: 0.16464994773268699 | Val Loss: 0.13114808010868728\n",
      "Epoch: 276 - Loss: 0.13650884702801705 | Val Loss: 0.29984190117102116\n",
      "Epoch: 277 - Loss: 0.17369818761944772 | Val Loss: 0.22951875813305378\n",
      "Epoch: 278 - Loss: 0.1515168309211731 | Val Loss: 0.17857089394237846\n",
      "Epoch: 279 - Loss: 0.1539657272398472 | Val Loss: 0.13055252784397453\n",
      "Epoch: 280 - Loss: 0.17119806930422782 | Val Loss: 0.0988901510136202\n",
      "Epoch: 281 - Loss: 0.16496549919247627 | Val Loss: 0.08712262730114162\n",
      "Epoch: 282 - Loss: 0.15638195127248763 | Val Loss: 0.17256980086676776\n",
      "Epoch: 283 - Loss: 0.16979965157806873 | Val Loss: 0.07841753214597702\n",
      "Epoch: 284 - Loss: 0.12638329118490219 | Val Loss: 0.17128827597480267\n",
      "Epoch: 285 - Loss: 0.172730702906847 | Val Loss: 0.18662976834457368\n",
      "Epoch: 286 - Loss: 0.16319872066378593 | Val Loss: 0.18054090277291834\n",
      "Epoch: 287 - Loss: 0.1816828057169914 | Val Loss: 0.21996570198098198\n",
      "Epoch: 288 - Loss: 0.16860752552747726 | Val Loss: 0.1978305196389556\n",
      "Epoch: 289 - Loss: 0.19421622008085251 | Val Loss: 0.036776340450160205\n",
      "Epoch: 290 - Loss: 0.12787484452128411 | Val Loss: 0.1932926847366616\n",
      "Epoch: 291 - Loss: 0.15209496319293975 | Val Loss: 0.19945180811919272\n",
      "Epoch: 292 - Loss: 0.15941701382398604 | Val Loss: 0.21892016637139022\n",
      "Epoch: 293 - Loss: 0.1770789124071598 | Val Loss: 0.15748138050548732\n",
      "Epoch: 294 - Loss: 0.1830134205520153 | Val Loss: 0.08772515330929309\n",
      "Epoch: 295 - Loss: 0.13114630468189717 | Val Loss: 0.20889604301191866\n",
      "Epoch: 296 - Loss: 0.14885038807988166 | Val Loss: 0.12530091241933405\n",
      "Epoch: 297 - Loss: 0.1252768013626337 | Val Loss: 0.20589222956914455\n",
      "Epoch: 298 - Loss: 0.16930508911609649 | Val Loss: 0.31518139224499464\n",
      "Epoch: 299 - Loss: 0.1634189248085022 | Val Loss: 0.21846257988363504\n",
      "Epoch: 300 - Loss: 0.13621362075209617 | Val Loss: 0.22946517914533615\n"
     ]
    }
   ],
   "source": [
    "train(unet, epochs=epochs)"
   ]
  },
  {
   "cell_type": "code",
   "execution_count": 15,
   "metadata": {},
   "outputs": [],
   "source": [
    "torch.save(unet.state_dict(), \"./Saved Models/unet_300.pth\")"
   ]
  },
  {
   "cell_type": "code",
   "execution_count": 16,
   "metadata": {},
   "outputs": [],
   "source": [
    "def plot_losses(train_losses, val_losses):\n",
    "    epochs = range(1, len(train_losses) + 1)\n",
    "\n",
    "    plt.plot(epochs, train_losses, label='Training Loss')\n",
    "    plt.plot(epochs, val_losses, label='Validation Loss')\n",
    "    \n",
    "    plt.title('Training and Validation Losses')\n",
    "    plt.xlabel('Epoch')\n",
    "    plt.ylabel('Loss')\n",
    "    plt.legend()\n",
    "    plt.show()"
   ]
  },
  {
   "cell_type": "code",
   "execution_count": 18,
   "metadata": {},
   "outputs": [
    {
     "data": {
      "image/png": "[encoded data removed]",
      "text/plain": [
       "<Figure size 640x480 with 1 Axes>"
      ]
     },
     "metadata": {},
     "output_type": "display_data"
    }
   ],
   "source": [
    "plot_losses(train_losses[:250], test_losses[:250])"
   ]
  },
  {
   "cell_type": "code",
   "execution_count": null,
   "metadata": {},
   "outputs": [],
   "source": [
    "# unet.load_state_dict(torch.load(\"./Saved Models/unet_81.pth\"))"
   ]
  },
  {
   "cell_type": "code",
   "execution_count": 114,
   "metadata": {},
   "outputs": [],
   "source": [
    "@torch.inference_mode()\n",
    "def ddpm_sample(model, sz, c):\n",
    "    xt = torch.randn(sz).to(device)\n",
    "    c = torch.full((xt.shape[0],), c).to(device)\n",
    "    preds = []\n",
    "    for i in reversed(range(n_steps)):\n",
    "        t = torch.full((xt.shape[0], ), i, dtype=torch.long, device=device)\n",
    "        pred_noise = model(xt, t, c)\n",
    "        a_t = alpha[t][:, None, None, None]\n",
    "        ab_t = alpha_bar[t][:, None, None, None]\n",
    "        s_t = sigma[t][:, None, None, None]\n",
    "        z = (torch.randn_like(xt) if i > 0 else torch.zeros_like(xt)).to(device)\n",
    "        xt_1 = (1/a_t.sqrt())*(xt - (((1-a_t)/(1-ab_t).sqrt())*pred_noise)) + (s_t*z)\n",
    "        preds.append(xt_1)\n",
    "        xt = xt_1\n",
    "    x0 = xt\n",
    "    return x0, preds"
   ]
  },
  {
   "cell_type": "code",
   "execution_count": 115,
   "metadata": {},
   "outputs": [],
   "source": [
    "bird_sample = ddpm_sample(unet, (5, 4, 32, 32), torch.tensor(0))"
   ]
  },
  {
   "cell_type": "code",
   "execution_count": 116,
   "metadata": {},
   "outputs": [],
   "source": [
    "xt, preds = bird_sample"
   ]
  },
  {
   "cell_type": "code",
   "execution_count": 117,
   "metadata": {},
   "outputs": [
    {
     "data": {
      "text/plain": [
       "(torch.Size([5, 4, 32, 32]), torch.Size([5, 4, 32, 32]))"
      ]
     },
     "execution_count": 117,
     "metadata": {},
     "output_type": "execute_result"
    }
   ],
   "source": [
    "xt.shape, preds[0].shape"
   ]
  },
  {
   "cell_type": "code",
   "execution_count": 20,
   "metadata": {},
   "outputs": [],
   "source": [
    "torch.cuda.empty_cache()"
   ]
  },
  {
   "cell_type": "code",
   "execution_count": null,
   "metadata": {},
   "outputs": [],
   "source": [
    "img = vae.decode(xt)\n",
    "show_images_grid(img[\"sample\"])"
   ]
  },
  {
   "cell_type": "code",
   "execution_count": null,
   "metadata": {},
   "outputs": [],
   "source": [
    "img = vae.decode(noise)\n",
    "show_images_grid(img[\"sample\"])"
   ]
  }
 ],
 "metadata": {
  "kernelspec": {
   "display_name": "pytorch",
   "language": "python",
   "name": "python3"
  },
  "language_info": {
   "codemirror_mode": {
    "name": "ipython",
    "version": 3
   },
   "file_extension": ".py",
   "mimetype": "text/x-python",
   "name": "python",
   "nbconvert_exporter": "python",
   "pygments_lexer": "ipython3",
   "version": "3.9.12"
  }
 },
 "nbformat": 4,
 "nbformat_minor": 2
}
