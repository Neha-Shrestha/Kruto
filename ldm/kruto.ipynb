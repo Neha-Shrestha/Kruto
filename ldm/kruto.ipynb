{
 "cells": [
  {
   "cell_type": "code",
   "execution_count": 3,
   "metadata": {},
   "outputs": [],
   "source": [
    "import torch\n",
    "from torch import nn\n",
    "import torchvision\n",
    "from torchvision import transforms\n",
    "\n",
    "from utils import *\n",
    "from train import *\n",
    "from conv import *"
   ]
  },
  {
   "cell_type": "markdown",
   "metadata": {},
   "source": [
    "### Loading Fashion MNIST data"
   ]
  },
  {
   "cell_type": "code",
   "execution_count": 4,
   "metadata": {},
   "outputs": [],
   "source": [
    "BATCH_SIZE=64\n",
    "device = \"cuda\" if torch.cuda.is_available() else \"cpu\""
   ]
  },
  {
   "cell_type": "code",
   "execution_count": 5,
   "metadata": {},
   "outputs": [],
   "source": [
    "transform = transforms.Compose([transforms.ToTensor()])\n",
    "train_dataset = torchvision.datasets.FashionMNIST(root='./data', train=True, download=True, transform=transform)\n",
    "test_dataset = torchvision.datasets.FashionMNIST(root='./data', train=False, download=True, transform=transform)"
   ]
  },
  {
   "cell_type": "code",
   "execution_count": 6,
   "metadata": {},
   "outputs": [],
   "source": [
    "train_dataloader, test_dataloader, class_names = dataloader(train_dataset, test_dataset, BATCH_SIZE)"
   ]
  },
  {
   "cell_type": "code",
   "execution_count": 7,
   "metadata": {},
   "outputs": [
    {
     "name": "stdout",
     "output_type": "stream",
     "text": [
      "Dataloaders: (<torch.utils.data.dataloader.DataLoader object at 0x000002A220F71520>, <torch.utils.data.dataloader.DataLoader object at 0x000002A220F715B0>)\n",
      "Length of train dataloader: 938 batches of 64\n",
      "Length of test dataloader: 157 batches of 64\n"
     ]
    }
   ],
   "source": [
    "print(f\"Dataloaders: {train_dataloader, test_dataloader}\") \n",
    "print(f\"Length of train dataloader: {len(train_dataloader)} batches of {BATCH_SIZE}\")\n",
    "print(f\"Length of test dataloader: {len(test_dataloader)} batches of {BATCH_SIZE}\")"
   ]
  },
  {
   "cell_type": "code",
   "execution_count": 183,
   "metadata": {},
   "outputs": [],
   "source": [
    "# show_images(train_dataset, class_names, 4, 4)\n",
    "# show_images(test_dataset, class_names, 4, 4)"
   ]
  },
  {
   "cell_type": "code",
   "execution_count": 184,
   "metadata": {},
   "outputs": [],
   "source": [
    "# from torch.utils.data import default_collate"
   ]
  },
  {
   "cell_type": "code",
   "execution_count": 8,
   "metadata": {},
   "outputs": [],
   "source": [
    "cnn = nn.Sequential(\n",
    "    conv(1, 4),\n",
    "    conv(4, 8),\n",
    "    conv(8, 16),\n",
    "    conv(16, 16),\n",
    "    conv(16, 10, act=False),\n",
    "    nn.Flatten()\n",
    ")"
   ]
  },
  {
   "cell_type": "code",
   "execution_count": 9,
   "metadata": {},
   "outputs": [],
   "source": [
    "from torch.optim.lr_scheduler import ExponentialLR\n",
    "\n",
    "lr = 0.4\n",
    "\n",
    "loss_fn = nn.CrossEntropyLoss()\n",
    "optimizer = torch.optim.SGD(params=cnn.parameters(), lr=lr)\n",
    "schedular = ExponentialLR(optimizer, gamma=1.3)"
   ]
  },
  {
   "cell_type": "code",
   "execution_count": 188,
   "metadata": {},
   "outputs": [],
   "source": [
    "# train_loss, train_acc, test_loss, test_acc "
   ]
  },
  {
   "cell_type": "code",
   "execution_count": 10,
   "metadata": {},
   "outputs": [],
   "source": [
    "def deconv(ic, oc, ks=3, act=True):\n",
    "    layers = [\n",
    "        nn.UpsamplingNearest2d(scale_factor=2),\n",
    "        nn.Conv2d(ic, oc, kernel_size=ks, stride=1, padding=ks//2)\n",
    "    ]\n",
    "    if act: layers.append(nn.ReLU())\n",
    "    return nn.Sequential(*layers)"
   ]
  },
  {
   "cell_type": "code",
   "execution_count": 11,
   "metadata": {},
   "outputs": [],
   "source": [
    "def eval(model, loss_fn, test_dataloader, epoch=0):\n",
    "    test_loss, test_count = 0, 0\n",
    "    model.eval()\n",
    "    with torch.inference_mode():\n",
    "        for X, _ in test_dataloader:\n",
    "            X = X.to(device)\n",
    "            test_loss += loss_fn(model(X), X)\n",
    "    \n",
    "    test_count = len(test_dataloader)*(epoch+1)\n",
    "    \n",
    "    print(f\"| Epoch: {epoch} | Loss: {test_loss / test_count} |\")"
   ]
  },
  {
   "cell_type": "code",
   "execution_count": 12,
   "metadata": {},
   "outputs": [],
   "source": [
    "ae = nn.Sequential(\n",
    "    nn.ZeroPad2d(2),            #32x32\n",
    "    conv(1, 2),                 #16x16\n",
    "    conv(2, 4),                 #8x8\n",
    "    conv(4, 8),                 #4x4\n",
    "    deconv(8, 4),               #8x8\n",
    "    deconv(4, 2),               #16x16\n",
    "    deconv(2, 1, act=False),    #32x32\n",
    "    nn.ZeroPad2d(-2),           #28x28\n",
    "    nn.Sigmoid()\n",
    ").to(device)"
   ]
  },
  {
   "cell_type": "code",
   "execution_count": 193,
   "metadata": {},
   "outputs": [
    {
     "name": "stdout",
     "output_type": "stream",
     "text": [
      "| Epoch: 0 | Loss: 0.1538122594356537 |\n"
     ]
    },
    {
     "name": "stderr",
     "output_type": "stream",
     "text": [
      "  0%|          | 0/5 [00:00<?, ?it/s]"
     ]
    },
    {
     "name": "stdout",
     "output_type": "stream",
     "text": [
      "lr: 0.4\n"
     ]
    },
    {
     "name": "stderr",
     "output_type": "stream",
     "text": [
      "d:\\Machine Learning\\pytorch\\lib\\site-packages\\torch\\optim\\lr_scheduler.py:139: UserWarning: Detected call of `lr_scheduler.step()` before `optimizer.step()`. In PyTorch 1.1.0 and later, you should call them in the opposite order: `optimizer.step()` before `lr_scheduler.step()`.  Failure to do this will result in PyTorch skipping the first value of the learning rate schedule. See more details at https://pytorch.org/docs/stable/optim.html#how-to-adjust-learning-rate\n",
      "  warnings.warn(\"Detected call of `lr_scheduler.step()` before `optimizer.step()`. \"\n",
      " 20%|██        | 1/5 [00:06<00:27,  6.90s/it]"
     ]
    },
    {
     "name": "stdout",
     "output_type": "stream",
     "text": [
      "| Epoch: 0 | Loss: 0.09491373598575592 |\n",
      "lr: 0.4\n",
      "lr: 0.4\n"
     ]
    },
    {
     "name": "stderr",
     "output_type": "stream",
     "text": [
      " 40%|████      | 2/5 [00:13<00:20,  6.92s/it]"
     ]
    },
    {
     "name": "stdout",
     "output_type": "stream",
     "text": [
      "| Epoch: 1 | Loss: 0.04604240134358406 |\n",
      "lr: 0.4\n",
      "lr: 0.4\n"
     ]
    },
    {
     "name": "stderr",
     "output_type": "stream",
     "text": [
      " 60%|██████    | 3/5 [00:20<00:13,  6.97s/it]"
     ]
    },
    {
     "name": "stdout",
     "output_type": "stream",
     "text": [
      "| Epoch: 2 | Loss: 0.02748321183025837 |\n",
      "lr: 0.4\n",
      "lr: 0.4\n"
     ]
    },
    {
     "name": "stderr",
     "output_type": "stream",
     "text": [
      " 80%|████████  | 4/5 [00:27<00:06,  6.94s/it]"
     ]
    },
    {
     "name": "stdout",
     "output_type": "stream",
     "text": [
      "| Epoch: 3 | Loss: 0.0219486802816391 |\n",
      "lr: 0.4\n",
      "lr: 0.4\n"
     ]
    },
    {
     "name": "stderr",
     "output_type": "stream",
     "text": [
      "100%|██████████| 5/5 [00:34<00:00,  6.94s/it]"
     ]
    },
    {
     "name": "stdout",
     "output_type": "stream",
     "text": [
      "| Epoch: 4 | Loss: 0.018008427694439888 |\n",
      "lr: 0.4\n"
     ]
    },
    {
     "name": "stderr",
     "output_type": "stream",
     "text": [
      "\n"
     ]
    },
    {
     "data": {
      "image/png": "[encoded data removed]",
      "text/plain": [
       "<Figure size 900x900 with 9 Axes>"
      ]
     },
     "metadata": {},
     "output_type": "display_data"
    }
   ],
   "source": [
    "import torch.nn.functional as F\n",
    "eval(ae, F.mse_loss, test_dataloader)\n",
    "optimizer = torch.optim.SGD(params=ae.parameters(), lr=0.1)\n",
    "fit(5, ae, train_dataloader, test_dataloader, F.l1_loss, optimizer, schedular, device)\n",
    "X, y = next(iter(train_dataloader))\n",
    "p = ae(X.to(device))\n",
    "show_images(p.data.cpu())"
   ]
  },
  {
   "cell_type": "code",
   "execution_count": 194,
   "metadata": {},
   "outputs": [],
   "source": [
    "# from torcheval.metrics import MulticlassAccuracy, Mean\n",
    "# metric = MulticlassAccuracy()"
   ]
  },
  {
   "cell_type": "code",
   "execution_count": 195,
   "metadata": {},
   "outputs": [],
   "source": [
    "def get_model():\n",
    "    return nn.Sequential(\n",
    "        conv(1, 8),\n",
    "        conv(8, 16),\n",
    "        conv(16, 32),\n",
    "        conv(32, 64),\n",
    "        conv(64, 10, act=False),\n",
    "        nn.Flatten()\n",
    "    ).to(device)"
   ]
  }
 ],
 "metadata": {
  "kernelspec": {
   "display_name": "pytorch",
   "language": "python",
   "name": "python3"
  },
  "language_info": {
   "codemirror_mode": {
    "name": "ipython",
    "version": 3
   },
   "file_extension": ".py",
   "mimetype": "text/x-python",
   "name": "python",
   "nbconvert_exporter": "python",
   "pygments_lexer": "ipython3",
   "version": "3.9.12"
  }
 },
 "nbformat": 4,
 "nbformat_minor": 2
}
