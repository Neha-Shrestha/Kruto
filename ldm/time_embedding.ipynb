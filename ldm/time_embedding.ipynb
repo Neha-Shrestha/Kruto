{
 "cells": [
  {
   "cell_type": "code",
   "execution_count": 1,
   "metadata": {},
   "outputs": [],
   "source": [
    "import torch\n",
    "from torch import nn\n",
    "import torch.nn.functional as F"
   ]
  },
  {
   "cell_type": "code",
   "execution_count": 2,
   "metadata": {},
   "outputs": [
    {
     "name": "stdout",
     "output_type": "stream",
     "text": [
      "Original time indices: tensor([0, 1, 2, 3, 4])\n",
      "Embedded time representation: tensor([[ 0.5874, -0.9803, -1.6889,  0.3755,  1.0404, -0.7588, -1.1876,  0.8378,\n",
      "         -0.7829,  0.5630],\n",
      "        [ 0.2790,  1.1307,  0.6015,  2.4115, -0.7492, -1.1330, -0.3843, -1.3125,\n",
      "         -0.3068, -0.7103],\n",
      "        [-0.7980,  0.3049,  2.0346, -1.2917,  0.9842,  0.1163,  0.8292, -1.5026,\n",
      "          0.3010, -0.2117],\n",
      "        [-0.6891,  0.7323,  1.6901,  0.5523, -0.7949, -0.5140, -0.0629,  2.1241,\n",
      "         -1.3083, -1.7402],\n",
      "        [ 0.2137,  0.1754, -0.5883, -1.3496, -0.3445, -1.1814,  0.3424,  1.1219,\n",
      "          0.8503, -1.5164]], grad_fn=<EmbeddingBackward0>)\n"
     ]
    }
   ],
   "source": [
    "class TimeEmbedding(nn.Module):\n",
    "    def __init__(self, input_size, embedding_size):\n",
    "        super().__init__()\n",
    "        self.embedding = nn.Embedding(input_size, embedding_size)\n",
    "\n",
    "    def forward(self, input_time):\n",
    "        embedded_time = self.embedding(input_time)\n",
    "        return embedded_time\n",
    "\n",
    "time_indices = torch.tensor([0, 1, 2, 3, 4])\n",
    "input_size = max(time_indices) + 1 \n",
    "embedding_size = 10\n",
    "time_embedding = TimeEmbedding(input_size, embedding_size)\n",
    "embedded_time = time_embedding(time_indices)\n",
    "print(\"Original time indices:\", time_indices)\n",
    "print(\"Embedded time representation:\", embedded_time)"
   ]
  },
  {
   "cell_type": "code",
   "execution_count": 3,
   "metadata": {},
   "outputs": [],
   "source": [
    "def timestep_embedding(tsteps, emb_dim, max_period= 10000):\n",
    "    exponent = -math.log(max_period) * torch.linspace(0, 1, emb_dim//2, device=tsteps.device)\n",
    "    emb = tsteps[:,None].float() * exponent.exp()[None,:]\n",
    "    emb = torch.cat([emb.sin(), emb.cos()], dim=-1)\n",
    "    return F.pad(emb, (0,1,0,0)) if emb_dim%2==1 else emb"
   ]
  },
  {
   "cell_type": "code",
   "execution_count": null,
   "metadata": {},
   "outputs": [],
   "source": []
  }
 ],
 "metadata": {
  "kernelspec": {
   "display_name": "pytorch",
   "language": "python",
   "name": "python3"
  },
  "language_info": {
   "codemirror_mode": {
    "name": "ipython",
    "version": 3
   },
   "file_extension": ".py",
   "mimetype": "text/x-python",
   "name": "python",
   "nbconvert_exporter": "python",
   "pygments_lexer": "ipython3",
   "version": "3.9.12"
  }
 },
 "nbformat": 4,
 "nbformat_minor": 2
}
