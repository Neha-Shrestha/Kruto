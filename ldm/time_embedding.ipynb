{
 "cells": [
  {
   "cell_type": "code",
   "execution_count": 1,
   "metadata": {},
   "outputs": [],
   "source": [
    "import torch\n",
    "from torch import nn"
   ]
  },
  {
   "cell_type": "code",
   "execution_count": 2,
   "metadata": {},
   "outputs": [
    {
     "name": "stdout",
     "output_type": "stream",
     "text": [
      "Original time indices: tensor([0, 1, 2, 3, 4])\n",
      "Embedded time representation: tensor([[-0.9014, -1.2362,  0.2670, -1.2512, -2.0884, -0.4103, -0.9377,  0.2269,\n",
      "         -0.2146,  1.1220],\n",
      "        [ 0.9987,  0.9080,  0.9422,  0.3000, -0.4905, -0.5902,  1.1966, -0.9405,\n",
      "          0.5115,  0.3145],\n",
      "        [ 1.6104, -0.0978,  1.5753,  0.0165,  0.2684, -0.1383,  0.0690, -0.6398,\n",
      "         -1.1338,  0.0471],\n",
      "        [-0.1136, -1.2561, -0.2121, -0.0831,  0.3109, -0.1789, -1.3522,  0.1172,\n",
      "          1.6047, -0.1727],\n",
      "        [ 0.0851,  1.5447,  1.6324, -0.4382,  1.6633, -0.7499, -1.2528, -0.3530,\n",
      "          0.5587, -0.2791]], grad_fn=<EmbeddingBackward0>)\n"
     ]
    }
   ],
   "source": [
    "class TimeEmbedding(nn.Module):\n",
    "    def __init__(self, input_size, embedding_size):\n",
    "        super().__init__()\n",
    "        self.embedding = nn.Embedding(input_size, embedding_size)\n",
    "\n",
    "    def forward(self, input_time):\n",
    "        embedded_time = self.embedding(input_time)\n",
    "        return embedded_time\n",
    "\n",
    "time_indices = torch.tensor([0, 1, 2, 3, 4])\n",
    "input_size = max(time_indices) + 1 \n",
    "embedding_size = 10\n",
    "time_embedding = TimeEmbedding(input_size, embedding_size)\n",
    "embedded_time = time_embedding(time_indices)\n",
    "print(\"Original time indices:\", time_indices)\n",
    "print(\"Embedded time representation:\", embedded_time)"
   ]
  }
 ],
 "metadata": {
  "kernelspec": {
   "display_name": "pytorch",
   "language": "python",
   "name": "python3"
  },
  "language_info": {
   "codemirror_mode": {
    "name": "ipython",
    "version": 3
   },
   "file_extension": ".py",
   "mimetype": "text/x-python",
   "name": "python",
   "nbconvert_exporter": "python",
   "pygments_lexer": "ipython3",
   "version": "3.9.12"
  }
 },
 "nbformat": 4,
 "nbformat_minor": 2
}
