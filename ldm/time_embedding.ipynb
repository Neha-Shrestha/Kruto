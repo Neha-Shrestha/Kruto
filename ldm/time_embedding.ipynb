{
 "cells": [
  {
   "cell_type": "code",
   "execution_count": null,
   "metadata": {},
   "outputs": [],
   "source": [
    "import torch\n",
    "from torch import nn"
   ]
  },
  {
   "cell_type": "code",
   "execution_count": null,
   "metadata": {},
   "outputs": [],
   "source": [
    "class TimeEmbedding(nn.Module):\n",
    "    def __init__(self, input_size, embedding_size):\n",
    "        super().__init__()\n",
    "        self.embedding = nn.Embedding(input_size, embedding_size)\n",
    "\n",
    "    def forward(self, input_time):\n",
    "        embedded_time = self.embedding(input_time)\n",
    "        return embedded_time\n",
    "\n",
    "time_indices = torch.tensor([0, 1, 2, 3, 4])\n",
    "input_size = max(time_indices) + 1 \n",
    "embedding_size = 10\n",
    "time_embedding = TimeEmbedding(input_size, embedding_size)\n",
    "embedded_time = time_embedding(time_indices)\n",
    "print(\"Original time indices:\", time_indices)\n",
    "print(\"Embedded time representation:\", embedded_time)"
   ]
  }
 ],
 "metadata": {
  "language_info": {
   "name": "python"
  }
 },
 "nbformat": 4,
 "nbformat_minor": 2
}
